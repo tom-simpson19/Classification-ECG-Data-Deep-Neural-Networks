{
  "nbformat": 4,
  "nbformat_minor": 0,
  "metadata": {
    "colab": {
      "name": "Untitled4.ipynb",
      "provenance": [],
      "collapsed_sections": []
    },
    "kernelspec": {
      "name": "python3",
      "display_name": "Python 3"
    }
  },
  "cells": [
    {
      "cell_type": "code",
      "metadata": {
        "colab": {
          "base_uri": "https://localhost:8080/"
        },
        "id": "EOLT2nMK7hwZ",
        "outputId": "97723f55-8e03-46da-8e28-2256f1ff51de"
      },
      "source": [
        "from keras.datasets import mnist\r\n",
        "import numpy as np\r\n",
        "import matplotlib.pyplot as plt\r\n",
        "import pandas as pd\r\n",
        "from sklearn.model_selection import train_test_split\r\n",
        "from sklearn.preprocessing import MinMaxScaler\r\n",
        "from keras import layers\r\n",
        "from keras.layers import Input, Dense, Dropout, Activation, ZeroPadding2D, BatchNormalization, Flatten, Conv2D, Embedding, Add\r\n",
        "from keras.layers import Conv1D, GlobalAveragePooling1D, AveragePooling2D, MaxPooling2D, MaxPool1D, ZeroPadding1D, GlobalMaxPooling2D, GlobalAveragePooling2D, LSTM, SpatialDropout1D\r\n",
        "from keras.models import Sequential, Model\r\n",
        "from keras.preprocessing import image\r\n",
        "from keras.utils import plot_model\r\n",
        "from keras.applications.inception_v3 import InceptionV3\r\n",
        "import matplotlib.pyplot as plt\r\n",
        "from sklearn.metrics import confusion_matrix\r\n",
        "import seaborn as sns\r\n",
        "from keras.layers.merge import concatenate\r\n",
        "from keras.utils import to_categorical \r\n",
        "import random\r\n",
        "\r\n",
        "#Define normal and abnormal data\r\n",
        "dataframe_ab = pd.read_csv('ptbdb_abnormal.csv', header=None, sep = ',')\r\n",
        "dataframe_nor = pd.read_csv('ptbdb_normal.csv', header=None, sep = ',')\r\n",
        "\r\n",
        "#Define array as a numpy array\r\n",
        "dataframe_ab = np.array(dataframe_ab.values)\r\n",
        "dataframe_nor = np.array(dataframe_nor.values)\r\n",
        "\r\n",
        "#Remove Na from dataset\r\n",
        "dataframe_ab = dataframe_ab[~np.isnan(dataframe_ab).any(axis=1)]\r\n",
        "dataframe_nor = dataframe_nor[~np.isnan(dataframe_nor).any(axis=1)]\r\n",
        "\r\n",
        "#Create test train split of each normal/abnormal dataset to ensure even split of class labels\r\n",
        "ab_train, ab_test= train_test_split(dataframe_ab, test_size=0.3, random_state=21)\r\n",
        "nor_train, nor_test = train_test_split(dataframe_nor,  test_size=0.3, random_state=21)\r\n",
        "\r\n",
        "print(ab_train.shape)\r\n",
        "print(nor_train.shape)\r\n",
        "print(ab_test.shape)\r\n",
        "print(nor_test.shape)\r\n",
        "\r\n",
        "#Create a list of each labels\r\n",
        "\r\n",
        "trainnor_labels = []\r\n",
        "for i in nor_train:\r\n",
        "  trainnor_labels.append(i[-1])\r\n",
        "\r\n",
        "testnor_labels = []\r\n",
        "for i in nor_test:\r\n",
        "  testnor_labels.append(i[-1])\r\n",
        "\r\n",
        "testab_labels = []\r\n",
        "for i in ab_test:\r\n",
        "  testab_labels.append(i[-1])\r\n",
        "\r\n",
        "trainab_labels = []\r\n",
        "for i in ab_train:\r\n",
        "  trainab_labels.append(i[-1])\r\n",
        "\r\n",
        "random.seed(123)\r\n",
        "print(len(trainnor_labels))\r\n",
        "print(len(testnor_labels))\r\n",
        "print(len(testab_labels))\r\n",
        "print(len(trainab_labels))\r\n",
        "\r\n",
        "\r\n",
        "#Remove labels from test/train set\r\n",
        "ab_train = np.delete(ab_train,-1, 1)\r\n",
        "ab_test = np.delete(ab_test,-1, 1)\r\n",
        "nor_train = np.delete(nor_train,-1, 1)\r\n",
        "nor_test = np.delete(nor_test,-1, 1)\r\n",
        "'''\r\n",
        "arr = np.vstack((dataframe_ab, dataframe_nor))\r\n",
        "arr = np.array(arr)\r\n",
        "\r\n",
        "arr = arr[~np.isnan(arr).any(axis=1)]\r\n",
        "\r\n",
        "labels = []\r\n",
        "for i in arr:\r\n",
        "  labels.append(i[-1])\r\n",
        "print(labels)\r\n",
        "\r\n",
        "arr = np.delete(arr,-1, 1)\r\n",
        "\r\n",
        "x_train, x_test, train_labels, test_labels = train_test_split(arr, labels, test_size=0.3, random_state=21)\r\n",
        "\r\n",
        "x_train = np.expand_dims(x_train, 2)\r\n",
        "x_test = np.expand_dims(x_test, 2)\r\n",
        "train_labels = to_categorical(train_labels)\r\n",
        "test_labels = to_categorical(test_labels)\r\n",
        "#train_labels = [int(item) for item in train_labels]\r\n",
        "#test_labels = [int(item) for item in test_labels]\r\n",
        "'''\r\n",
        "\r\n",
        "#Compbine train/test data\r\n",
        "x_train = np.vstack((ab_train, nor_train))\r\n",
        "x_test = np.vstack((ab_test, nor_test))\r\n",
        "train_labels = np.hstack((trainab_labels, trainnor_labels))\r\n",
        "test_labels = np.hstack((testab_labels, testnor_labels))\r\n",
        "x_train = np.expand_dims(x_train, 2)\r\n",
        "x_test = np.expand_dims(x_test, 2)\r\n",
        "\r\n",
        "#Set test train labels to categorical\r\n",
        "train_labels = to_categorical(train_labels)\r\n",
        "test_labels = to_categorical(test_labels)\r\n",
        "\r\n"
      ],
      "execution_count": null,
      "outputs": [
        {
          "output_type": "stream",
          "text": [
            "(4685, 188)\n",
            "(2832, 188)\n",
            "(2008, 188)\n",
            "(1214, 188)\n",
            "2832\n",
            "1214\n",
            "2008\n",
            "4685\n",
            "ptb_train_X shape=(7517, 187, 1)\n",
            "ptb_train_y shape=(7517, 2)\n",
            "ptb_testX shape=(3222, 187, 1)\n",
            "ptb_testy shape=(3222, 2)\n"
          ],
          "name": "stdout"
        }
      ]
    },
    {
      "cell_type": "code",
      "metadata": {
        "colab": {
          "base_uri": "https://localhost:8080/"
        },
        "id": "1eTedErGc7eh",
        "outputId": "507c91f1-c658-49b4-96f0-9f4d5dbc23f1"
      },
      "source": [
        "#Define lstm model with data input shape and initialise with 64 neurons\r\n",
        "#Final layer softmax for exclusive binary case for 2 neurons(calculates predicted probability of each label)\r\n",
        "\r\n",
        "lstm_model = Sequential()\r\n",
        "lstm_model.add(LSTM(64, input_shape=(187,1)))\r\n",
        "lstm_model.add(Dense(128, activation = 'relu'))\r\n",
        "lstm_model.add(Dropout(0.3))\r\n",
        "lstm_model.add(Dense(2, activation = 'softmax'))\r\n",
        "lstm_model.summary()\r\n",
        "\r\n",
        "#Redifne for SGD model\r\n",
        "lstm_model_SGD = Sequential()\r\n",
        "lstm_model_SGD.add(LSTM(64, input_shape=(187,1)))\r\n",
        "lstm_model_SGD.add(Dense(128, activation = 'relu'))\r\n",
        "lstm_model_SGD.add(Dropout(0.3))\r\n",
        "lstm_model_SGD.add(Dense(2, activation = 'softmax'))\r\n",
        "lstm_model_SGD.summary()"
      ],
      "execution_count": null,
      "outputs": [
        {
          "output_type": "stream",
          "text": [
            "Model: \"sequential_5\"\n",
            "_________________________________________________________________\n",
            "Layer (type)                 Output Shape              Param #   \n",
            "=================================================================\n",
            "lstm_5 (LSTM)                (None, 64)                16896     \n",
            "_________________________________________________________________\n",
            "dense_10 (Dense)             (None, 128)               8320      \n",
            "_________________________________________________________________\n",
            "dropout_5 (Dropout)          (None, 128)               0         \n",
            "_________________________________________________________________\n",
            "dense_11 (Dense)             (None, 2)                 258       \n",
            "=================================================================\n",
            "Total params: 25,474\n",
            "Trainable params: 25,474\n",
            "Non-trainable params: 0\n",
            "_________________________________________________________________\n",
            "Model: \"sequential_6\"\n",
            "_________________________________________________________________\n",
            "Layer (type)                 Output Shape              Param #   \n",
            "=================================================================\n",
            "lstm_6 (LSTM)                (None, 64)                16896     \n",
            "_________________________________________________________________\n",
            "dense_12 (Dense)             (None, 128)               8320      \n",
            "_________________________________________________________________\n",
            "dropout_6 (Dropout)          (None, 128)               0         \n",
            "_________________________________________________________________\n",
            "dense_13 (Dense)             (None, 2)                 258       \n",
            "=================================================================\n",
            "Total params: 25,474\n",
            "Trainable params: 25,474\n",
            "Non-trainable params: 0\n",
            "_________________________________________________________________\n"
          ],
          "name": "stdout"
        }
      ]
    },
    {
      "cell_type": "code",
      "metadata": {
        "id": "A94e0aBXc-zZ"
      },
      "source": [
        "#Compiles model for both adam and sgd optimiser\r\n",
        "\r\n",
        "lstm_model.compile(optimizer='adam', loss='categorical_crossentropy', metrics=['accuracy', 'mae'])\r\n",
        "lstm_model_SGD.compile(optimizer='SGD', loss='categorical_crossentropy', metrics=['accuracy', 'mae'])\r\n",
        "\r\n"
      ],
      "execution_count": null,
      "outputs": []
    },
    {
      "cell_type": "code",
      "metadata": {
        "id": "esjKf4Kg_6au",
        "colab": {
          "base_uri": "https://localhost:8080/",
          "height": 511
        },
        "outputId": "ae04dcba-9cda-42ba-f98e-aa8171026bb1"
      },
      "source": [
        "lstm_model_history = lstm_model.fit(x_train, train_labels, epochs = 100, batch_size = 100, validation_data = (x_test, test_labels))\r\n"
      ],
      "execution_count": null,
      "outputs": [
        {
          "output_type": "stream",
          "text": [
            "Epoch 1/100\n",
            "102/102 [==============================] - 19s 167ms/step - loss: 0.6193 - accuracy: 0.7024 - mae: 0.4318 - val_loss: 0.5910 - val_accuracy: 0.7219 - val_mae: 0.3980\n",
            "Epoch 2/100\n",
            "102/102 [==============================] - 16s 162ms/step - loss: 0.5976 - accuracy: 0.7181 - mae: 0.4075 - val_loss: 0.5908 - val_accuracy: 0.7219 - val_mae: 0.3984\n",
            "Epoch 3/100\n",
            "102/102 [==============================] - 17s 162ms/step - loss: 0.5861 - accuracy: 0.7189 - mae: 0.3965 - val_loss: 0.5501 - val_accuracy: 0.7219 - val_mae: 0.3400\n",
            "Epoch 4/100\n",
            "102/102 [==============================] - 16s 162ms/step - loss: 0.5512 - accuracy: 0.7188 - mae: 0.3655 - val_loss: 0.5196 - val_accuracy: 0.7224 - val_mae: 0.3146\n",
            "Epoch 5/100\n",
            " 36/102 [=========>....................] - ETA: 9s - loss: 0.5231 - accuracy: 0.7253 - mae: 0.3469"
          ],
          "name": "stdout"
        },
        {
          "output_type": "error",
          "ename": "KeyboardInterrupt",
          "evalue": "ignored",
          "traceback": [
            "\u001b[0;31m---------------------------------------------------------------------------\u001b[0m",
            "\u001b[0;31mKeyboardInterrupt\u001b[0m                         Traceback (most recent call last)",
            "\u001b[0;32m<ipython-input-15-729cf9d630a7>\u001b[0m in \u001b[0;36m<module>\u001b[0;34m()\u001b[0m\n\u001b[0;32m----> 1\u001b[0;31m \u001b[0mlstm_model_history\u001b[0m \u001b[0;34m=\u001b[0m \u001b[0mlstm_model\u001b[0m\u001b[0;34m.\u001b[0m\u001b[0mfit\u001b[0m\u001b[0;34m(\u001b[0m\u001b[0mx_train\u001b[0m\u001b[0;34m,\u001b[0m \u001b[0mtrain_labels\u001b[0m\u001b[0;34m,\u001b[0m \u001b[0mepochs\u001b[0m \u001b[0;34m=\u001b[0m \u001b[0;36m100\u001b[0m\u001b[0;34m,\u001b[0m \u001b[0mbatch_size\u001b[0m \u001b[0;34m=\u001b[0m \u001b[0;36m100\u001b[0m\u001b[0;34m,\u001b[0m \u001b[0mvalidation_data\u001b[0m \u001b[0;34m=\u001b[0m \u001b[0;34m(\u001b[0m\u001b[0mx_test\u001b[0m\u001b[0;34m,\u001b[0m \u001b[0mtest_labels\u001b[0m\u001b[0;34m)\u001b[0m\u001b[0;34m)\u001b[0m\u001b[0;34m\u001b[0m\u001b[0;34m\u001b[0m\u001b[0m\n\u001b[0m",
            "\u001b[0;32m/usr/local/lib/python3.6/dist-packages/tensorflow/python/keras/engine/training.py\u001b[0m in \u001b[0;36mfit\u001b[0;34m(self, x, y, batch_size, epochs, verbose, callbacks, validation_split, validation_data, shuffle, class_weight, sample_weight, initial_epoch, steps_per_epoch, validation_steps, validation_batch_size, validation_freq, max_queue_size, workers, use_multiprocessing)\u001b[0m\n\u001b[1;32m   1098\u001b[0m                 _r=1):\n\u001b[1;32m   1099\u001b[0m               \u001b[0mcallbacks\u001b[0m\u001b[0;34m.\u001b[0m\u001b[0mon_train_batch_begin\u001b[0m\u001b[0;34m(\u001b[0m\u001b[0mstep\u001b[0m\u001b[0;34m)\u001b[0m\u001b[0;34m\u001b[0m\u001b[0;34m\u001b[0m\u001b[0m\n\u001b[0;32m-> 1100\u001b[0;31m               \u001b[0mtmp_logs\u001b[0m \u001b[0;34m=\u001b[0m \u001b[0mself\u001b[0m\u001b[0;34m.\u001b[0m\u001b[0mtrain_function\u001b[0m\u001b[0;34m(\u001b[0m\u001b[0miterator\u001b[0m\u001b[0;34m)\u001b[0m\u001b[0;34m\u001b[0m\u001b[0;34m\u001b[0m\u001b[0m\n\u001b[0m\u001b[1;32m   1101\u001b[0m               \u001b[0;32mif\u001b[0m \u001b[0mdata_handler\u001b[0m\u001b[0;34m.\u001b[0m\u001b[0mshould_sync\u001b[0m\u001b[0;34m:\u001b[0m\u001b[0;34m\u001b[0m\u001b[0;34m\u001b[0m\u001b[0m\n\u001b[1;32m   1102\u001b[0m                 \u001b[0mcontext\u001b[0m\u001b[0;34m.\u001b[0m\u001b[0masync_wait\u001b[0m\u001b[0;34m(\u001b[0m\u001b[0;34m)\u001b[0m\u001b[0;34m\u001b[0m\u001b[0;34m\u001b[0m\u001b[0m\n",
            "\u001b[0;32m/usr/local/lib/python3.6/dist-packages/tensorflow/python/eager/def_function.py\u001b[0m in \u001b[0;36m__call__\u001b[0;34m(self, *args, **kwds)\u001b[0m\n\u001b[1;32m    826\u001b[0m     \u001b[0mtracing_count\u001b[0m \u001b[0;34m=\u001b[0m \u001b[0mself\u001b[0m\u001b[0;34m.\u001b[0m\u001b[0mexperimental_get_tracing_count\u001b[0m\u001b[0;34m(\u001b[0m\u001b[0;34m)\u001b[0m\u001b[0;34m\u001b[0m\u001b[0;34m\u001b[0m\u001b[0m\n\u001b[1;32m    827\u001b[0m     \u001b[0;32mwith\u001b[0m \u001b[0mtrace\u001b[0m\u001b[0;34m.\u001b[0m\u001b[0mTrace\u001b[0m\u001b[0;34m(\u001b[0m\u001b[0mself\u001b[0m\u001b[0;34m.\u001b[0m\u001b[0m_name\u001b[0m\u001b[0;34m)\u001b[0m \u001b[0;32mas\u001b[0m \u001b[0mtm\u001b[0m\u001b[0;34m:\u001b[0m\u001b[0;34m\u001b[0m\u001b[0;34m\u001b[0m\u001b[0m\n\u001b[0;32m--> 828\u001b[0;31m       \u001b[0mresult\u001b[0m \u001b[0;34m=\u001b[0m \u001b[0mself\u001b[0m\u001b[0;34m.\u001b[0m\u001b[0m_call\u001b[0m\u001b[0;34m(\u001b[0m\u001b[0;34m*\u001b[0m\u001b[0margs\u001b[0m\u001b[0;34m,\u001b[0m \u001b[0;34m**\u001b[0m\u001b[0mkwds\u001b[0m\u001b[0;34m)\u001b[0m\u001b[0;34m\u001b[0m\u001b[0;34m\u001b[0m\u001b[0m\n\u001b[0m\u001b[1;32m    829\u001b[0m       \u001b[0mcompiler\u001b[0m \u001b[0;34m=\u001b[0m \u001b[0;34m\"xla\"\u001b[0m \u001b[0;32mif\u001b[0m \u001b[0mself\u001b[0m\u001b[0;34m.\u001b[0m\u001b[0m_experimental_compile\u001b[0m \u001b[0;32melse\u001b[0m \u001b[0;34m\"nonXla\"\u001b[0m\u001b[0;34m\u001b[0m\u001b[0;34m\u001b[0m\u001b[0m\n\u001b[1;32m    830\u001b[0m       \u001b[0mnew_tracing_count\u001b[0m \u001b[0;34m=\u001b[0m \u001b[0mself\u001b[0m\u001b[0;34m.\u001b[0m\u001b[0mexperimental_get_tracing_count\u001b[0m\u001b[0;34m(\u001b[0m\u001b[0;34m)\u001b[0m\u001b[0;34m\u001b[0m\u001b[0;34m\u001b[0m\u001b[0m\n",
            "\u001b[0;32m/usr/local/lib/python3.6/dist-packages/tensorflow/python/eager/def_function.py\u001b[0m in \u001b[0;36m_call\u001b[0;34m(self, *args, **kwds)\u001b[0m\n\u001b[1;32m    853\u001b[0m       \u001b[0;31m# In this case we have created variables on the first call, so we run the\u001b[0m\u001b[0;34m\u001b[0m\u001b[0;34m\u001b[0m\u001b[0;34m\u001b[0m\u001b[0m\n\u001b[1;32m    854\u001b[0m       \u001b[0;31m# defunned version which is guaranteed to never create variables.\u001b[0m\u001b[0;34m\u001b[0m\u001b[0;34m\u001b[0m\u001b[0;34m\u001b[0m\u001b[0m\n\u001b[0;32m--> 855\u001b[0;31m       \u001b[0;32mreturn\u001b[0m \u001b[0mself\u001b[0m\u001b[0;34m.\u001b[0m\u001b[0m_stateless_fn\u001b[0m\u001b[0;34m(\u001b[0m\u001b[0;34m*\u001b[0m\u001b[0margs\u001b[0m\u001b[0;34m,\u001b[0m \u001b[0;34m**\u001b[0m\u001b[0mkwds\u001b[0m\u001b[0;34m)\u001b[0m  \u001b[0;31m# pylint: disable=not-callable\u001b[0m\u001b[0;34m\u001b[0m\u001b[0;34m\u001b[0m\u001b[0m\n\u001b[0m\u001b[1;32m    856\u001b[0m     \u001b[0;32melif\u001b[0m \u001b[0mself\u001b[0m\u001b[0;34m.\u001b[0m\u001b[0m_stateful_fn\u001b[0m \u001b[0;32mis\u001b[0m \u001b[0;32mnot\u001b[0m \u001b[0;32mNone\u001b[0m\u001b[0;34m:\u001b[0m\u001b[0;34m\u001b[0m\u001b[0;34m\u001b[0m\u001b[0m\n\u001b[1;32m    857\u001b[0m       \u001b[0;31m# Release the lock early so that multiple threads can perform the call\u001b[0m\u001b[0;34m\u001b[0m\u001b[0;34m\u001b[0m\u001b[0;34m\u001b[0m\u001b[0m\n",
            "\u001b[0;32m/usr/local/lib/python3.6/dist-packages/tensorflow/python/eager/function.py\u001b[0m in \u001b[0;36m__call__\u001b[0;34m(self, *args, **kwargs)\u001b[0m\n\u001b[1;32m   2941\u001b[0m        filtered_flat_args) = self._maybe_define_function(args, kwargs)\n\u001b[1;32m   2942\u001b[0m     return graph_function._call_flat(\n\u001b[0;32m-> 2943\u001b[0;31m         filtered_flat_args, captured_inputs=graph_function.captured_inputs)  # pylint: disable=protected-access\n\u001b[0m\u001b[1;32m   2944\u001b[0m \u001b[0;34m\u001b[0m\u001b[0m\n\u001b[1;32m   2945\u001b[0m   \u001b[0;34m@\u001b[0m\u001b[0mproperty\u001b[0m\u001b[0;34m\u001b[0m\u001b[0;34m\u001b[0m\u001b[0m\n",
            "\u001b[0;32m/usr/local/lib/python3.6/dist-packages/tensorflow/python/eager/function.py\u001b[0m in \u001b[0;36m_call_flat\u001b[0;34m(self, args, captured_inputs, cancellation_manager)\u001b[0m\n\u001b[1;32m   1917\u001b[0m       \u001b[0;31m# No tape is watching; skip to running the function.\u001b[0m\u001b[0;34m\u001b[0m\u001b[0;34m\u001b[0m\u001b[0;34m\u001b[0m\u001b[0m\n\u001b[1;32m   1918\u001b[0m       return self._build_call_outputs(self._inference_function.call(\n\u001b[0;32m-> 1919\u001b[0;31m           ctx, args, cancellation_manager=cancellation_manager))\n\u001b[0m\u001b[1;32m   1920\u001b[0m     forward_backward = self._select_forward_and_backward_functions(\n\u001b[1;32m   1921\u001b[0m         \u001b[0margs\u001b[0m\u001b[0;34m,\u001b[0m\u001b[0;34m\u001b[0m\u001b[0;34m\u001b[0m\u001b[0m\n",
            "\u001b[0;32m/usr/local/lib/python3.6/dist-packages/tensorflow/python/eager/function.py\u001b[0m in \u001b[0;36mcall\u001b[0;34m(self, ctx, args, cancellation_manager)\u001b[0m\n\u001b[1;32m    558\u001b[0m               \u001b[0minputs\u001b[0m\u001b[0;34m=\u001b[0m\u001b[0margs\u001b[0m\u001b[0;34m,\u001b[0m\u001b[0;34m\u001b[0m\u001b[0;34m\u001b[0m\u001b[0m\n\u001b[1;32m    559\u001b[0m               \u001b[0mattrs\u001b[0m\u001b[0;34m=\u001b[0m\u001b[0mattrs\u001b[0m\u001b[0;34m,\u001b[0m\u001b[0;34m\u001b[0m\u001b[0;34m\u001b[0m\u001b[0m\n\u001b[0;32m--> 560\u001b[0;31m               ctx=ctx)\n\u001b[0m\u001b[1;32m    561\u001b[0m         \u001b[0;32melse\u001b[0m\u001b[0;34m:\u001b[0m\u001b[0;34m\u001b[0m\u001b[0;34m\u001b[0m\u001b[0m\n\u001b[1;32m    562\u001b[0m           outputs = execute.execute_with_cancellation(\n",
            "\u001b[0;32m/usr/local/lib/python3.6/dist-packages/tensorflow/python/eager/execute.py\u001b[0m in \u001b[0;36mquick_execute\u001b[0;34m(op_name, num_outputs, inputs, attrs, ctx, name)\u001b[0m\n\u001b[1;32m     58\u001b[0m     \u001b[0mctx\u001b[0m\u001b[0;34m.\u001b[0m\u001b[0mensure_initialized\u001b[0m\u001b[0;34m(\u001b[0m\u001b[0;34m)\u001b[0m\u001b[0;34m\u001b[0m\u001b[0;34m\u001b[0m\u001b[0m\n\u001b[1;32m     59\u001b[0m     tensors = pywrap_tfe.TFE_Py_Execute(ctx._handle, device_name, op_name,\n\u001b[0;32m---> 60\u001b[0;31m                                         inputs, attrs, num_outputs)\n\u001b[0m\u001b[1;32m     61\u001b[0m   \u001b[0;32mexcept\u001b[0m \u001b[0mcore\u001b[0m\u001b[0;34m.\u001b[0m\u001b[0m_NotOkStatusException\u001b[0m \u001b[0;32mas\u001b[0m \u001b[0me\u001b[0m\u001b[0;34m:\u001b[0m\u001b[0;34m\u001b[0m\u001b[0;34m\u001b[0m\u001b[0m\n\u001b[1;32m     62\u001b[0m     \u001b[0;32mif\u001b[0m \u001b[0mname\u001b[0m \u001b[0;32mis\u001b[0m \u001b[0;32mnot\u001b[0m \u001b[0;32mNone\u001b[0m\u001b[0;34m:\u001b[0m\u001b[0;34m\u001b[0m\u001b[0;34m\u001b[0m\u001b[0m\n",
            "\u001b[0;31mKeyboardInterrupt\u001b[0m: "
          ]
        }
      ]
    },
    {
      "cell_type": "code",
      "metadata": {
        "colab": {
          "base_uri": "https://localhost:8080/"
        },
        "id": "2RFphzDpEbHS",
        "outputId": "707ba6f2-b84b-4187-a1b1-073e677feb3d"
      },
      "source": [
        "lstm_model_history_SGD = lstm_model_SGD.fit(x_train, train_labels, epochs = 100, batch_size = 100, validation_data = (x_test, test_labels))\r\n"
      ],
      "execution_count": null,
      "outputs": [
        {
          "output_type": "stream",
          "text": [
            "Epoch 1/100\n",
            "102/102 [==============================] - 20s 177ms/step - loss: 0.6581 - accuracy: 0.6995 - mae: 0.4789 - val_loss: 0.6035 - val_accuracy: 0.7219 - val_mae: 0.4342\n",
            "Epoch 2/100\n",
            "102/102 [==============================] - 17s 166ms/step - loss: 0.5999 - accuracy: 0.7194 - mae: 0.4274 - val_loss: 0.5925 - val_accuracy: 0.7219 - val_mae: 0.4123\n",
            "Epoch 3/100\n",
            "102/102 [==============================] - 18s 175ms/step - loss: 0.5872 - accuracy: 0.7281 - mae: 0.4072 - val_loss: 0.5913 - val_accuracy: 0.7219 - val_mae: 0.4052\n",
            "Epoch 4/100\n",
            "102/102 [==============================] - 18s 177ms/step - loss: 0.5877 - accuracy: 0.7261 - mae: 0.4021 - val_loss: 0.5912 - val_accuracy: 0.7219 - val_mae: 0.4039\n",
            "Epoch 5/100\n",
            "102/102 [==============================] - 17s 169ms/step - loss: 0.5895 - accuracy: 0.7243 - mae: 0.4024 - val_loss: 0.5911 - val_accuracy: 0.7219 - val_mae: 0.4026\n",
            "Epoch 6/100\n",
            "102/102 [==============================] - 18s 173ms/step - loss: 0.5993 - accuracy: 0.7132 - mae: 0.4071 - val_loss: 0.5911 - val_accuracy: 0.7219 - val_mae: 0.4015\n",
            "Epoch 7/100\n",
            "102/102 [==============================] - 19s 182ms/step - loss: 0.5958 - accuracy: 0.7183 - mae: 0.4042 - val_loss: 0.5911 - val_accuracy: 0.7219 - val_mae: 0.4017\n",
            "Epoch 8/100\n",
            "102/102 [==============================] - 18s 174ms/step - loss: 0.5827 - accuracy: 0.7315 - mae: 0.3970 - val_loss: 0.5911 - val_accuracy: 0.7219 - val_mae: 0.4026\n",
            "Epoch 9/100\n",
            "102/102 [==============================] - 17s 168ms/step - loss: 0.5877 - accuracy: 0.7260 - mae: 0.4006 - val_loss: 0.5911 - val_accuracy: 0.7219 - val_mae: 0.4027\n",
            "Epoch 10/100\n",
            "102/102 [==============================] - 18s 175ms/step - loss: 0.5903 - accuracy: 0.7244 - mae: 0.4016 - val_loss: 0.5911 - val_accuracy: 0.7219 - val_mae: 0.4029\n",
            "Epoch 11/100\n",
            "102/102 [==============================] - 18s 176ms/step - loss: 0.5860 - accuracy: 0.7275 - mae: 0.3996 - val_loss: 0.5911 - val_accuracy: 0.7219 - val_mae: 0.4026\n",
            "Epoch 12/100\n",
            "102/102 [==============================] - 17s 170ms/step - loss: 0.5932 - accuracy: 0.7197 - mae: 0.4033 - val_loss: 0.5911 - val_accuracy: 0.7219 - val_mae: 0.4022\n",
            "Epoch 13/100\n",
            "102/102 [==============================] - 18s 177ms/step - loss: 0.5884 - accuracy: 0.7257 - mae: 0.4002 - val_loss: 0.5911 - val_accuracy: 0.7219 - val_mae: 0.4026\n",
            "Epoch 14/100\n",
            "102/102 [==============================] - 17s 169ms/step - loss: 0.5862 - accuracy: 0.7286 - mae: 0.3992 - val_loss: 0.5911 - val_accuracy: 0.7219 - val_mae: 0.4030\n",
            "Epoch 15/100\n",
            "102/102 [==============================] - 18s 176ms/step - loss: 0.5900 - accuracy: 0.7239 - mae: 0.4018 - val_loss: 0.5911 - val_accuracy: 0.7219 - val_mae: 0.4024\n",
            "Epoch 16/100\n",
            "102/102 [==============================] - 17s 165ms/step - loss: 0.5820 - accuracy: 0.7315 - mae: 0.3972 - val_loss: 0.5911 - val_accuracy: 0.7219 - val_mae: 0.4025\n",
            "Epoch 17/100\n",
            "102/102 [==============================] - 18s 173ms/step - loss: 0.5889 - accuracy: 0.7254 - mae: 0.4010 - val_loss: 0.5911 - val_accuracy: 0.7219 - val_mae: 0.4025\n",
            "Epoch 18/100\n",
            "102/102 [==============================] - 18s 175ms/step - loss: 0.5892 - accuracy: 0.7247 - mae: 0.4010 - val_loss: 0.5911 - val_accuracy: 0.7219 - val_mae: 0.4022\n",
            "Epoch 19/100\n",
            "102/102 [==============================] - 18s 175ms/step - loss: 0.5975 - accuracy: 0.7165 - mae: 0.4056 - val_loss: 0.5911 - val_accuracy: 0.7219 - val_mae: 0.4018\n",
            "Epoch 20/100\n",
            "102/102 [==============================] - 17s 166ms/step - loss: 0.5980 - accuracy: 0.7150 - mae: 0.4056 - val_loss: 0.5911 - val_accuracy: 0.7219 - val_mae: 0.4013\n",
            "Epoch 21/100\n",
            "102/102 [==============================] - 18s 176ms/step - loss: 0.5854 - accuracy: 0.7274 - mae: 0.3983 - val_loss: 0.5911 - val_accuracy: 0.7219 - val_mae: 0.4020\n",
            "Epoch 22/100\n",
            "102/102 [==============================] - 18s 173ms/step - loss: 0.5907 - accuracy: 0.7224 - mae: 0.4015 - val_loss: 0.5911 - val_accuracy: 0.7219 - val_mae: 0.4024\n",
            "Epoch 23/100\n",
            "102/102 [==============================] - 18s 175ms/step - loss: 0.5843 - accuracy: 0.7298 - mae: 0.3983 - val_loss: 0.5911 - val_accuracy: 0.7219 - val_mae: 0.4026\n",
            "Epoch 24/100\n",
            "102/102 [==============================] - 18s 174ms/step - loss: 0.6000 - accuracy: 0.7129 - mae: 0.4072 - val_loss: 0.5911 - val_accuracy: 0.7219 - val_mae: 0.4014\n",
            "Epoch 25/100\n",
            "102/102 [==============================] - 18s 179ms/step - loss: 0.5934 - accuracy: 0.7202 - mae: 0.4027 - val_loss: 0.5911 - val_accuracy: 0.7219 - val_mae: 0.4013\n",
            "Epoch 26/100\n",
            "102/102 [==============================] - 18s 175ms/step - loss: 0.5880 - accuracy: 0.7260 - mae: 0.3994 - val_loss: 0.5911 - val_accuracy: 0.7219 - val_mae: 0.4021\n",
            "Epoch 27/100\n",
            "102/102 [==============================] - 17s 163ms/step - loss: 0.5924 - accuracy: 0.7214 - mae: 0.4028 - val_loss: 0.5911 - val_accuracy: 0.7219 - val_mae: 0.4015\n",
            "Epoch 28/100\n",
            "102/102 [==============================] - 18s 181ms/step - loss: 0.5874 - accuracy: 0.7263 - mae: 0.3995 - val_loss: 0.5911 - val_accuracy: 0.7219 - val_mae: 0.4021\n",
            "Epoch 29/100\n",
            "102/102 [==============================] - 18s 179ms/step - loss: 0.5919 - accuracy: 0.7219 - mae: 0.4024 - val_loss: 0.5911 - val_accuracy: 0.7219 - val_mae: 0.4016\n",
            "Epoch 30/100\n",
            "102/102 [==============================] - 19s 182ms/step - loss: 0.5985 - accuracy: 0.7152 - mae: 0.4056 - val_loss: 0.5911 - val_accuracy: 0.7219 - val_mae: 0.4016\n",
            "Epoch 31/100\n",
            "102/102 [==============================] - 18s 181ms/step - loss: 0.5852 - accuracy: 0.7283 - mae: 0.3987 - val_loss: 0.5911 - val_accuracy: 0.7219 - val_mae: 0.4016\n",
            "Epoch 32/100\n",
            "102/102 [==============================] - 18s 181ms/step - loss: 0.5892 - accuracy: 0.7244 - mae: 0.4005 - val_loss: 0.5911 - val_accuracy: 0.7219 - val_mae: 0.4018\n",
            "Epoch 33/100\n",
            "102/102 [==============================] - 18s 178ms/step - loss: 0.5989 - accuracy: 0.7144 - mae: 0.4059 - val_loss: 0.5911 - val_accuracy: 0.7219 - val_mae: 0.4011\n",
            "Epoch 34/100\n",
            "102/102 [==============================] - 18s 178ms/step - loss: 0.5958 - accuracy: 0.7174 - mae: 0.4037 - val_loss: 0.5911 - val_accuracy: 0.7219 - val_mae: 0.4010\n",
            "Epoch 35/100\n",
            "102/102 [==============================] - 18s 180ms/step - loss: 0.5907 - accuracy: 0.7227 - mae: 0.4006 - val_loss: 0.5911 - val_accuracy: 0.7219 - val_mae: 0.4018\n",
            "Epoch 36/100\n",
            "102/102 [==============================] - 18s 179ms/step - loss: 0.5900 - accuracy: 0.7232 - mae: 0.4008 - val_loss: 0.5911 - val_accuracy: 0.7219 - val_mae: 0.4018\n",
            "Epoch 37/100\n",
            "102/102 [==============================] - 17s 169ms/step - loss: 0.5886 - accuracy: 0.7249 - mae: 0.4004 - val_loss: 0.5911 - val_accuracy: 0.7219 - val_mae: 0.4025\n",
            "Epoch 38/100\n",
            "102/102 [==============================] - 18s 179ms/step - loss: 0.5990 - accuracy: 0.7143 - mae: 0.4064 - val_loss: 0.5911 - val_accuracy: 0.7219 - val_mae: 0.4019\n",
            "Epoch 39/100\n",
            "102/102 [==============================] - 18s 177ms/step - loss: 0.5905 - accuracy: 0.7231 - mae: 0.4015 - val_loss: 0.5911 - val_accuracy: 0.7219 - val_mae: 0.4020\n",
            "Epoch 40/100\n",
            "102/102 [==============================] - 18s 180ms/step - loss: 0.5962 - accuracy: 0.7172 - mae: 0.4046 - val_loss: 0.5911 - val_accuracy: 0.7219 - val_mae: 0.4017\n",
            "Epoch 41/100\n",
            "102/102 [==============================] - 19s 183ms/step - loss: 0.5910 - accuracy: 0.7223 - mae: 0.4016 - val_loss: 0.5911 - val_accuracy: 0.7219 - val_mae: 0.4017\n",
            "Epoch 42/100\n",
            "102/102 [==============================] - 19s 186ms/step - loss: 0.5874 - accuracy: 0.7274 - mae: 0.3994 - val_loss: 0.5911 - val_accuracy: 0.7219 - val_mae: 0.4025\n",
            "Epoch 43/100\n",
            "102/102 [==============================] - 18s 179ms/step - loss: 0.5922 - accuracy: 0.7216 - mae: 0.4027 - val_loss: 0.5911 - val_accuracy: 0.7219 - val_mae: 0.4021\n",
            "Epoch 44/100\n",
            "102/102 [==============================] - 17s 169ms/step - loss: 0.5867 - accuracy: 0.7261 - mae: 0.3994 - val_loss: 0.5911 - val_accuracy: 0.7219 - val_mae: 0.4023\n",
            "Epoch 45/100\n",
            "102/102 [==============================] - 17s 169ms/step - loss: 0.5939 - accuracy: 0.7188 - mae: 0.4036 - val_loss: 0.5911 - val_accuracy: 0.7219 - val_mae: 0.4015\n",
            "Epoch 46/100\n",
            "102/102 [==============================] - 18s 174ms/step - loss: 0.5894 - accuracy: 0.7244 - mae: 0.4005 - val_loss: 0.5911 - val_accuracy: 0.7219 - val_mae: 0.4024\n",
            "Epoch 47/100\n",
            "102/102 [==============================] - 18s 177ms/step - loss: 0.5857 - accuracy: 0.7277 - mae: 0.3989 - val_loss: 0.5911 - val_accuracy: 0.7219 - val_mae: 0.4029\n",
            "Epoch 48/100\n",
            "102/102 [==============================] - 18s 180ms/step - loss: 0.5923 - accuracy: 0.7210 - mae: 0.4032 - val_loss: 0.5911 - val_accuracy: 0.7219 - val_mae: 0.4019\n",
            "Epoch 49/100\n",
            "102/102 [==============================] - 18s 179ms/step - loss: 0.5988 - accuracy: 0.7136 - mae: 0.4062 - val_loss: 0.5911 - val_accuracy: 0.7219 - val_mae: 0.4008\n",
            "Epoch 50/100\n",
            "102/102 [==============================] - 18s 174ms/step - loss: 0.5932 - accuracy: 0.7198 - mae: 0.4020 - val_loss: 0.5911 - val_accuracy: 0.7219 - val_mae: 0.4013\n",
            "Epoch 51/100\n",
            "102/102 [==============================] - 18s 174ms/step - loss: 0.5928 - accuracy: 0.7205 - mae: 0.4022 - val_loss: 0.5911 - val_accuracy: 0.7219 - val_mae: 0.4012\n",
            "Epoch 52/100\n",
            "102/102 [==============================] - 18s 177ms/step - loss: 0.5917 - accuracy: 0.7213 - mae: 0.4016 - val_loss: 0.5911 - val_accuracy: 0.7219 - val_mae: 0.4018\n",
            "Epoch 53/100\n",
            "102/102 [==============================] - 18s 175ms/step - loss: 0.5978 - accuracy: 0.7148 - mae: 0.4055 - val_loss: 0.5911 - val_accuracy: 0.7219 - val_mae: 0.4014\n",
            "Epoch 54/100\n",
            "102/102 [==============================] - 18s 174ms/step - loss: 0.5901 - accuracy: 0.7235 - mae: 0.4008 - val_loss: 0.5911 - val_accuracy: 0.7219 - val_mae: 0.4021\n",
            "Epoch 55/100\n",
            "102/102 [==============================] - 18s 175ms/step - loss: 0.5871 - accuracy: 0.7265 - mae: 0.3996 - val_loss: 0.5911 - val_accuracy: 0.7219 - val_mae: 0.4021\n",
            "Epoch 56/100\n",
            "102/102 [==============================] - 17s 166ms/step - loss: 0.5821 - accuracy: 0.7315 - mae: 0.3970 - val_loss: 0.5911 - val_accuracy: 0.7219 - val_mae: 0.4023\n",
            "Epoch 57/100\n",
            "102/102 [==============================] - 18s 176ms/step - loss: 0.5994 - accuracy: 0.7138 - mae: 0.4068 - val_loss: 0.5911 - val_accuracy: 0.7219 - val_mae: 0.4014\n",
            "Epoch 58/100\n",
            "102/102 [==============================] - 18s 177ms/step - loss: 0.5928 - accuracy: 0.7205 - mae: 0.4023 - val_loss: 0.5911 - val_accuracy: 0.7219 - val_mae: 0.4018\n",
            "Epoch 59/100\n",
            "102/102 [==============================] - 19s 185ms/step - loss: 0.5915 - accuracy: 0.7217 - mae: 0.4019 - val_loss: 0.5911 - val_accuracy: 0.7219 - val_mae: 0.4018\n",
            "Epoch 60/100\n",
            "102/102 [==============================] - 18s 175ms/step - loss: 0.5996 - accuracy: 0.7140 - mae: 0.4066 - val_loss: 0.5911 - val_accuracy: 0.7219 - val_mae: 0.4010\n",
            "Epoch 61/100\n",
            "102/102 [==============================] - 17s 168ms/step - loss: 0.5950 - accuracy: 0.7189 - mae: 0.4033 - val_loss: 0.5911 - val_accuracy: 0.7219 - val_mae: 0.4015\n",
            "Epoch 62/100\n",
            "102/102 [==============================] - 18s 176ms/step - loss: 0.5833 - accuracy: 0.7307 - mae: 0.3971 - val_loss: 0.5911 - val_accuracy: 0.7219 - val_mae: 0.4022\n",
            "Epoch 63/100\n",
            "102/102 [==============================] - 17s 169ms/step - loss: 0.5839 - accuracy: 0.7293 - mae: 0.3978 - val_loss: 0.5911 - val_accuracy: 0.7219 - val_mae: 0.4028\n",
            "Epoch 64/100\n",
            "102/102 [==============================] - 18s 176ms/step - loss: 0.5882 - accuracy: 0.7254 - mae: 0.4009 - val_loss: 0.5911 - val_accuracy: 0.7219 - val_mae: 0.4020\n",
            "Epoch 65/100\n",
            "102/102 [==============================] - 18s 175ms/step - loss: 0.5920 - accuracy: 0.7209 - mae: 0.4023 - val_loss: 0.5911 - val_accuracy: 0.7219 - val_mae: 0.4019\n",
            "Epoch 66/100\n",
            "102/102 [==============================] - 18s 175ms/step - loss: 0.5969 - accuracy: 0.7163 - mae: 0.4050 - val_loss: 0.5911 - val_accuracy: 0.7219 - val_mae: 0.4015\n",
            "Epoch 67/100\n",
            "102/102 [==============================] - 18s 175ms/step - loss: 0.5895 - accuracy: 0.7235 - mae: 0.4005 - val_loss: 0.5911 - val_accuracy: 0.7219 - val_mae: 0.4018\n",
            "Epoch 68/100\n",
            "102/102 [==============================] - 17s 168ms/step - loss: 0.5905 - accuracy: 0.7229 - mae: 0.4011 - val_loss: 0.5911 - val_accuracy: 0.7219 - val_mae: 0.4022\n",
            "Epoch 69/100\n",
            "102/102 [==============================] - 18s 179ms/step - loss: 0.5853 - accuracy: 0.7282 - mae: 0.3988 - val_loss: 0.5911 - val_accuracy: 0.7219 - val_mae: 0.4025\n",
            "Epoch 70/100\n",
            "102/102 [==============================] - 18s 176ms/step - loss: 0.5942 - accuracy: 0.7188 - mae: 0.4041 - val_loss: 0.5911 - val_accuracy: 0.7219 - val_mae: 0.4019\n",
            "Epoch 71/100\n",
            "102/102 [==============================] - 18s 176ms/step - loss: 0.5887 - accuracy: 0.7246 - mae: 0.4005 - val_loss: 0.5911 - val_accuracy: 0.7219 - val_mae: 0.4017\n",
            "Epoch 72/100\n",
            "102/102 [==============================] - 17s 169ms/step - loss: 0.5815 - accuracy: 0.7321 - mae: 0.3962 - val_loss: 0.5911 - val_accuracy: 0.7219 - val_mae: 0.4026\n",
            "Epoch 73/100\n",
            "102/102 [==============================] - 18s 177ms/step - loss: 0.5984 - accuracy: 0.7145 - mae: 0.4065 - val_loss: 0.5911 - val_accuracy: 0.7219 - val_mae: 0.4014\n",
            "Epoch 74/100\n",
            "102/102 [==============================] - 17s 169ms/step - loss: 0.5925 - accuracy: 0.7205 - mae: 0.4022 - val_loss: 0.5911 - val_accuracy: 0.7219 - val_mae: 0.4017\n",
            "Epoch 75/100\n",
            "102/102 [==============================] - 18s 178ms/step - loss: 0.5900 - accuracy: 0.7235 - mae: 0.4008 - val_loss: 0.5911 - val_accuracy: 0.7219 - val_mae: 0.4020\n",
            "Epoch 76/100\n",
            "102/102 [==============================] - 19s 183ms/step - loss: 0.5934 - accuracy: 0.7198 - mae: 0.4032 - val_loss: 0.5911 - val_accuracy: 0.7219 - val_mae: 0.4015\n",
            "Epoch 77/100\n",
            "102/102 [==============================] - 18s 178ms/step - loss: 0.5905 - accuracy: 0.7227 - mae: 0.4012 - val_loss: 0.5911 - val_accuracy: 0.7219 - val_mae: 0.4019\n",
            "Epoch 78/100\n",
            "102/102 [==============================] - 17s 167ms/step - loss: 0.5924 - accuracy: 0.7208 - mae: 0.4025 - val_loss: 0.5911 - val_accuracy: 0.7219 - val_mae: 0.4016\n",
            "Epoch 79/100\n",
            "102/102 [==============================] - 17s 167ms/step - loss: 0.5979 - accuracy: 0.7147 - mae: 0.4052 - val_loss: 0.5911 - val_accuracy: 0.7219 - val_mae: 0.4013\n",
            "Epoch 80/100\n",
            "102/102 [==============================] - 18s 176ms/step - loss: 0.5903 - accuracy: 0.7229 - mae: 0.4008 - val_loss: 0.5911 - val_accuracy: 0.7219 - val_mae: 0.4018\n",
            "Epoch 81/100\n",
            "102/102 [==============================] - 17s 168ms/step - loss: 0.5922 - accuracy: 0.7211 - mae: 0.4024 - val_loss: 0.5911 - val_accuracy: 0.7219 - val_mae: 0.4015\n",
            "Epoch 82/100\n",
            "102/102 [==============================] - 18s 174ms/step - loss: 0.5889 - accuracy: 0.7243 - mae: 0.4002 - val_loss: 0.5911 - val_accuracy: 0.7219 - val_mae: 0.4021\n",
            "Epoch 83/100\n",
            "102/102 [==============================] - 18s 174ms/step - loss: 0.5943 - accuracy: 0.7187 - mae: 0.4036 - val_loss: 0.5911 - val_accuracy: 0.7219 - val_mae: 0.4016\n",
            "Epoch 84/100\n",
            "102/102 [==============================] - 17s 167ms/step - loss: 0.5935 - accuracy: 0.7201 - mae: 0.4028 - val_loss: 0.5911 - val_accuracy: 0.7219 - val_mae: 0.4016\n",
            "Epoch 85/100\n",
            "102/102 [==============================] - 17s 167ms/step - loss: 0.5879 - accuracy: 0.7260 - mae: 0.3997 - val_loss: 0.5911 - val_accuracy: 0.7219 - val_mae: 0.4022\n",
            "Epoch 86/100\n",
            "102/102 [==============================] - 18s 178ms/step - loss: 0.5873 - accuracy: 0.7258 - mae: 0.4001 - val_loss: 0.5911 - val_accuracy: 0.7219 - val_mae: 0.4015\n",
            "Epoch 87/100\n",
            "102/102 [==============================] - 18s 178ms/step - loss: 0.5945 - accuracy: 0.7185 - mae: 0.4034 - val_loss: 0.5911 - val_accuracy: 0.7219 - val_mae: 0.4008\n",
            "Epoch 88/100\n",
            "102/102 [==============================] - 17s 168ms/step - loss: 0.5910 - accuracy: 0.7221 - mae: 0.4007 - val_loss: 0.5911 - val_accuracy: 0.7219 - val_mae: 0.4014\n",
            "Epoch 89/100\n",
            "102/102 [==============================] - 18s 176ms/step - loss: 0.5909 - accuracy: 0.7223 - mae: 0.4014 - val_loss: 0.5911 - val_accuracy: 0.7219 - val_mae: 0.4017\n",
            "Epoch 90/100\n",
            "102/102 [==============================] - 18s 175ms/step - loss: 0.5952 - accuracy: 0.7178 - mae: 0.4041 - val_loss: 0.5911 - val_accuracy: 0.7219 - val_mae: 0.4015\n",
            "Epoch 91/100\n",
            "102/102 [==============================] - 17s 166ms/step - loss: 0.5869 - accuracy: 0.7268 - mae: 0.3990 - val_loss: 0.5911 - val_accuracy: 0.7219 - val_mae: 0.4024\n",
            "Epoch 92/100\n",
            "102/102 [==============================] - 18s 174ms/step - loss: 0.5895 - accuracy: 0.7237 - mae: 0.4011 - val_loss: 0.5911 - val_accuracy: 0.7219 - val_mae: 0.4025\n",
            "Epoch 93/100\n",
            "102/102 [==============================] - 17s 170ms/step - loss: 0.5952 - accuracy: 0.7180 - mae: 0.4045 - val_loss: 0.5911 - val_accuracy: 0.7219 - val_mae: 0.4018\n",
            "Epoch 94/100\n",
            "102/102 [==============================] - 19s 184ms/step - loss: 0.5982 - accuracy: 0.7147 - mae: 0.4059 - val_loss: 0.5911 - val_accuracy: 0.7219 - val_mae: 0.4010\n",
            "Epoch 95/100\n",
            "102/102 [==============================] - 17s 169ms/step - loss: 0.5866 - accuracy: 0.7269 - mae: 0.3987 - val_loss: 0.5911 - val_accuracy: 0.7219 - val_mae: 0.4022\n",
            "Epoch 96/100\n",
            "102/102 [==============================] - 18s 174ms/step - loss: 0.5978 - accuracy: 0.7151 - mae: 0.4058 - val_loss: 0.5911 - val_accuracy: 0.7219 - val_mae: 0.4010\n",
            "Epoch 97/100\n",
            "102/102 [==============================] - 17s 166ms/step - loss: 0.5926 - accuracy: 0.7205 - mae: 0.4020 - val_loss: 0.5911 - val_accuracy: 0.7219 - val_mae: 0.4010\n",
            "Epoch 98/100\n",
            "102/102 [==============================] - 18s 175ms/step - loss: 0.5922 - accuracy: 0.7215 - mae: 0.4017 - val_loss: 0.5911 - val_accuracy: 0.7219 - val_mae: 0.4018\n",
            "Epoch 99/100\n",
            "102/102 [==============================] - 18s 177ms/step - loss: 0.5865 - accuracy: 0.7273 - mae: 0.3990 - val_loss: 0.5911 - val_accuracy: 0.7219 - val_mae: 0.4024\n",
            "Epoch 100/100\n",
            "102/102 [==============================] - 17s 169ms/step - loss: 0.5870 - accuracy: 0.7264 - mae: 0.3998 - val_loss: 0.5911 - val_accuracy: 0.7219 - val_mae: 0.4024\n"
          ],
          "name": "stdout"
        }
      ]
    },
    {
      "cell_type": "markdown",
      "metadata": {
        "id": "FjxoqY8eR-Us"
      },
      "source": [
        ""
      ]
    },
    {
      "cell_type": "markdown",
      "metadata": {
        "id": "_vGTSpVpV3oX"
      },
      "source": [
        "lstm_model.compile(optimizer='adam', loss='binary_crossentropy', metrics=['accuracy', 'mae'])\r\n",
        "lstm_model_history_adam = lstm_model.fit(x_train, train_labels, epochs = 100, batch_size = 100, validation_data = (x_test, test_labels))\r\n"
      ]
    },
    {
      "cell_type": "code",
      "metadata": {
        "colab": {
          "base_uri": "https://localhost:8080/",
          "height": 295
        },
        "id": "OIsJwHhXFIJS",
        "outputId": "36504620-11dd-41e5-a508-17feb8e6c167"
      },
      "source": [
        "plt.plot(lstm_model_history.history['accuracy'])\r\n",
        "plt.plot(lstm_model_history.history['val_accuracy'])\r\n",
        "plt.plot(lstm_model_history_SGD.history['accuracy'])\r\n",
        "plt.plot(lstm_model_history_SGD.history['val_accuracy'])\r\n",
        "plt.legend([\"accuracy using adam optimiser\",\"val_accuracy using adam optimiser\", \"accuracy using adam optimiser\", \"val_accuracy using SGD optimiser\"])\r\n",
        "plt.xlabel('Epoch')\r\n",
        "plt.ylabel('Accuracy')"
      ],
      "execution_count": null,
      "outputs": [
        {
          "output_type": "execute_result",
          "data": {
            "text/plain": [
              "Text(0, 0.5, 'Accuracy')"
            ]
          },
          "metadata": {
            "tags": []
          },
          "execution_count": 24
        },
        {
          "output_type": "display_data",
          "data": {
            "image/png": "[encoded data removed]",
            "text/plain": [
              "<Figure size 432x288 with 1 Axes>"
            ]
          },
          "metadata": {
            "tags": [],
            "needs_background": "light"
          }
        }
      ]
    },
    {
      "cell_type": "code",
      "metadata": {
        "colab": {
          "base_uri": "https://localhost:8080/",
          "height": 295
        },
        "id": "TAHUI4NjTCol",
        "outputId": "00edc78d-3d84-457c-e9e7-f0804164e5a2"
      },
      "source": [
        "plt.plot(lstm_model_history.history['mae'])\r\n",
        "\r\n",
        "plt.legend([\"mae\",\"val_accuracy\"])\r\n",
        "plt.xlabel('Number of epochs')"
      ],
      "execution_count": null,
      "outputs": [
        {
          "output_type": "execute_result",
          "data": {
            "text/plain": [
              "Text(0.5, 0, 'Number of epochs')"
            ]
          },
          "metadata": {
            "tags": []
          },
          "execution_count": 29
        },
        {
          "output_type": "display_data",
          "data": {
            "image/png": "[encoded data removed]",
            "text/plain": [
              "<Figure size 432x288 with 1 Axes>"
            ]
          },
          "metadata": {
            "tags": [],
            "needs_background": "light"
          }
        }
      ]
    },
    {
      "cell_type": "code",
      "metadata": {
        "colab": {
          "base_uri": "https://localhost:8080/",
          "height": 295
        },
        "id": "ZfEx5xYsTLiD",
        "outputId": "cfee4bbe-b3fa-427c-c98f-9df7cfe43df6"
      },
      "source": [
        "plt.plot(lstm_model_history.history['loss'])\r\n",
        "plt.plot(lstm_model_history.history['val_loss'])\r\n",
        "plt.plot(lstm_model_history_SGD.history['loss'])\r\n",
        "plt.plot(lstm_model_history_SGD.history['val_loss'])\r\n",
        "plt.legend([\"loss using adam optimiser\",\"val_loss using adam optimiser\",'val_loss using SGD optimiser','val_loss using SGD optimiser'])\r\n",
        "plt.xlabel('Epoch')\r\n",
        "plt.ylabel('Loss')"
      ],
      "execution_count": null,
      "outputs": [
        {
          "output_type": "execute_result",
          "data": {
            "text/plain": [
              "Text(0, 0.5, 'Loss')"
            ]
          },
          "metadata": {
            "tags": []
          },
          "execution_count": 23
        },
        {
          "output_type": "display_data",
          "data": {
            "image/png": "[encoded data removed]",
            "text/plain": [
              "<Figure size 432x288 with 1 Axes>"
            ]
          },
          "metadata": {
            "tags": [],
            "needs_background": "light"
          }
        }
      ]
    },
    {
      "cell_type": "code",
      "metadata": {
        "colab": {
          "base_uri": "https://localhost:8080/",
          "height": 331
        },
        "id": "KXQeD7s8TO02",
        "outputId": "f8e0d204-87e4-461e-ab12-bc5963e7ba75"
      },
      "source": [
        "from sklearn.metrics import classification_report\r\n",
        "y_true=[]\r\n",
        "for element in test_labels:\r\n",
        "    y_true.append(np.argmax(element))\r\n",
        "prediction_proba=lstm_model.predict(x_test)\r\n",
        "prediction=np.argmax(prediction_proba,axis=1)\r\n",
        "\r\n",
        "lstm_model_cf_matrix = confusion_matrix(y_true, prediction)\r\n",
        "sns.heatmap(lstm_model_cf_matrix/np.sum(lstm_model_cf_matrix), annot=True,fmt='.3%', cmap='Blues')\r\n",
        "\r\n",
        "classification_report(y_true, prediction)"
      ],
      "execution_count": null,
      "outputs": [
        {
          "output_type": "execute_result",
          "data": {
            "application/vnd.google.colaboratory.intrinsic+json": {
              "type": "string"
            },
            "text/plain": [
              "'              precision    recall  f1-score   support\\n\\n           0       0.10      0.11      0.10      1214\\n           1       0.64      0.62      0.63      3152\\n\\n    accuracy                           0.47      4366\\n   macro avg       0.37      0.36      0.36      4366\\nweighted avg       0.49      0.47      0.48      4366\\n'"
            ]
          },
          "metadata": {
            "tags": []
          },
          "execution_count": 25
        },
        {
          "output_type": "display_data",
          "data": {
            "image/png": "[encoded data removed]",
            "text/plain": [
              "<Figure size 432x288 with 2 Axes>"
            ]
          },
          "metadata": {
            "tags": [],
            "needs_background": "light"
          }
        }
      ]
    },
    {
      "cell_type": "markdown",
      "metadata": {
        "id": "rgY9S88lTm_0"
      },
      "source": [
        "ResNet50"
      ]
    },
    {
      "cell_type": "code",
      "metadata": {
        "id": "e8k6-QhTToqN"
      },
      "source": [
        "def identity_block(X, f, filters):\r\n",
        "    F1, F2, F3 = filters\r\n",
        "    \r\n",
        "    X_shortcut = X\r\n",
        "    \r\n",
        "    X = Conv1D(filters = F1, kernel_size = 1, activation='relu', strides = 1, padding = 'valid')(X)\r\n",
        "    X = BatchNormalization()(X)\r\n",
        "    \r\n",
        "    X = Conv1D(filters = F2, kernel_size = f, activation='relu', strides = 1, padding = 'same')(X)\r\n",
        "    X = BatchNormalization()(X)\r\n",
        "\r\n",
        "    X = Conv1D(filters = F3, kernel_size = 1, activation='relu', strides = 1, padding = 'valid')(X)\r\n",
        "    X = BatchNormalization()(X)\r\n",
        "\r\n",
        "    X = Add()([X,X_shortcut])\r\n",
        "    X = Activation('relu')(X)\r\n",
        "    \r\n",
        "    return X\r\n",
        "\r\n",
        "    "
      ],
      "execution_count": null,
      "outputs": []
    },
    {
      "cell_type": "code",
      "metadata": {
        "id": "57KxQv8qTr0k"
      },
      "source": [
        "  \r\n",
        "def convolutional_block(X, f, filters, s = 2):\r\n",
        "    F1, F2, F3 = filters\r\n",
        "    \r\n",
        "    X_shortcut = X\r\n",
        "\r\n",
        "    X = Conv1D(F1, 1, activation='relu', strides = s)(X)\r\n",
        "    X = BatchNormalization()(X)\r\n",
        "    \r\n",
        "    X = Conv1D(F2, f, activation='relu', strides = 1,padding = 'same')(X)\r\n",
        "    X = BatchNormalization()(X)\r\n",
        "\r\n",
        "    X = Conv1D(F3, 1, strides = 1)(X)\r\n",
        "    X = BatchNormalization()(X)\r\n",
        "\r\n",
        "    X_shortcut = Conv1D(F3, 1, strides = s)(X_shortcut)\r\n",
        "    X_shortcut = BatchNormalization()(X_shortcut)\r\n",
        "    \r\n",
        "    X = Add()([X,X_shortcut])\r\n",
        "    X = Activation('relu')(X)\r\n",
        "    \r\n",
        "    return X"
      ],
      "execution_count": null,
      "outputs": []
    },
    {
      "cell_type": "code",
      "metadata": {
        "id": "ZEPDonzvTvJE"
      },
      "source": [
        "def ResNet50(input_shape = (187,1)):\r\n",
        "    \r\n",
        "    X_input = Input(input_shape)\r\n",
        "\r\n",
        "    X = ZeroPadding1D(3)(X_input)\r\n",
        "    \r\n",
        "    X = Conv1D(64, 7, activation='relu', strides = 2)(X)\r\n",
        "    X = BatchNormalization()(X)\r\n",
        "    X = MaxPool1D(pool_size=2, strides=2, padding='same')(X)\r\n",
        "\r\n",
        "    #Uses 3 sets of filters size 64 x 64 x 256\r\n",
        "    X = convolutional_block(X, f = 3, filters = [64, 64, 256], s = 1)\r\n",
        "    X = identity_block(X, 3, [64, 64, 256])\r\n",
        "    X = identity_block(X, 3, [64, 64, 256])\r\n",
        "\r\n",
        "    X = convolutional_block(X, f = 3, filters = [128,128,512], s = 2)\r\n",
        "    X = identity_block(X, 3, [128,128,512])\r\n",
        "    X = identity_block(X, 3, [128,128,512])\r\n",
        "    X = identity_block(X, 3, [128,128,512])\r\n",
        "\r\n",
        "    X = convolutional_block(X, f = 3, filters = [256, 256, 1024], s = 2)\r\n",
        "    X = identity_block(X, 3, [256, 256, 1024])\r\n",
        "    X = identity_block(X, 3, [256, 256, 1024])\r\n",
        "    X = identity_block(X, 3, [256, 256, 1024])\r\n",
        "    X = identity_block(X, 3, [256, 256, 1024])\r\n",
        "    X = identity_block(X, 3, [256, 256, 1024])\r\n",
        "\r\n",
        "    X = convolutional_block(X, f = 3, filters = [512, 512, 2048], s = 2)\r\n",
        "    X = identity_block(X, 3, [512, 512, 2048])\r\n",
        "    X = identity_block(X, 3, [512, 512, 2048])\r\n",
        "    \r\n",
        "    X = MaxPool1D(pool_size=2, strides=2, padding='same')(X)\r\n",
        "    \r\n",
        "    X = Flatten()(X)\r\n",
        "    X = Dense(2,activation='softmax')(X)\r\n",
        "    \r\n",
        "    model = Model(inputs = X_input, outputs = X, name='ResNet50')\r\n",
        "    \r\n",
        "  #finding \r\n",
        "    '''\r\n",
        "    \r\n",
        "    X = AveragePooling2D(pool_size=2, strides=2, padding='same')(X)\r\n",
        "    X = Flatten()(X)\r\n",
        "    X = Dense(2, activation='softmax')(X)\r\n",
        "    \r\n",
        "    \r\n",
        "    # Create model\r\n",
        "    model = Model(inputs = X_input, outputs = X, name='ResNet50')\r\n",
        "    '''\r\n",
        "    return model\r\n",
        "\r\n",
        "def ResNet50_SGD(input_shape = (187,1)):\r\n",
        "    \r\n",
        "    X_input = Input(input_shape)\r\n",
        "\r\n",
        "    X = ZeroPadding1D(3)(X_input)\r\n",
        "    \r\n",
        "    X = Conv1D(64, 7, activation='relu', strides = 2)(X)\r\n",
        "    X = BatchNormalization()(X)\r\n",
        "    X = MaxPool1D(pool_size=2, strides=2, padding='same')(X)\r\n",
        "\r\n",
        "    #Uses 3 sets of filters size 64 x 64 x 256\r\n",
        "    X = convolutional_block(X, f = 3, filters = [64, 64, 256], s = 1)\r\n",
        "    X = identity_block(X, 3, [64, 64, 256])\r\n",
        "    X = identity_block(X, 3, [64, 64, 256])\r\n",
        "\r\n",
        "    X = convolutional_block(X, f = 3, filters = [128,128,512], s = 2)\r\n",
        "    X = identity_block(X, 3, [128,128,512])\r\n",
        "    X = identity_block(X, 3, [128,128,512])\r\n",
        "    X = identity_block(X, 3, [128,128,512])\r\n",
        "\r\n",
        "    X = convolutional_block(X, f = 3, filters = [256, 256, 1024], s = 2)\r\n",
        "    X = identity_block(X, 3, [256, 256, 1024])\r\n",
        "    X = identity_block(X, 3, [256, 256, 1024])\r\n",
        "    X = identity_block(X, 3, [256, 256, 1024])\r\n",
        "    X = identity_block(X, 3, [256, 256, 1024])\r\n",
        "    X = identity_block(X, 3, [256, 256, 1024])\r\n",
        "\r\n",
        "    X = convolutional_block(X, f = 3, filters = [512, 512, 2048], s = 2)\r\n",
        "    X = identity_block(X, 3, [512, 512, 2048])\r\n",
        "    X = identity_block(X, 3, [512, 512, 2048])\r\n",
        "    \r\n",
        "    X = MaxPool1D(pool_size=2, strides=2, padding='same')(X)\r\n",
        "    \r\n",
        "    X = Flatten()(X)\r\n",
        "    X = Dense(2,activation='softmax')(X)\r\n",
        "    \r\n",
        "    model = Model(inputs = X_input, outputs = X, name='ResNet50')\r\n",
        "    \r\n",
        "  #finding \r\n",
        "    '''\r\n",
        "    \r\n",
        "    X = AveragePooling2D(pool_size=2, strides=2, padding='same')(X)\r\n",
        "    X = Flatten()(X)\r\n",
        "    X = Dense(2, activation='softmax')(X)\r\n",
        "    \r\n",
        "    \r\n",
        "    # Create model\r\n",
        "    model = Model(inputs = X_input, outputs = X, name='ResNet50')\r\n",
        "    '''\r\n",
        "    return model\r\n"
      ],
      "execution_count": null,
      "outputs": []
    },
    {
      "cell_type": "code",
      "metadata": {
        "colab": {
          "base_uri": "https://localhost:8080/"
        },
        "id": "Qc_7CCNxTxmc",
        "outputId": "9a415237-e816-4131-aa8e-e9e3069ea126"
      },
      "source": [
        "resNet50_model = ResNet50(input_shape = (187,1))\r\n",
        "ResNet50_SGD = ResNet50_SGD(input_shape = (187,1))\r\n",
        "resNet50_model.summary()"
      ],
      "execution_count": null,
      "outputs": [
        {
          "output_type": "stream",
          "text": [
            "Model: \"ResNet50\"\n",
            "__________________________________________________________________________________________________\n",
            "Layer (type)                    Output Shape         Param #     Connected to                     \n",
            "==================================================================================================\n",
            "input_1 (InputLayer)            [(None, 187, 1)]     0                                            \n",
            "__________________________________________________________________________________________________\n",
            "zero_padding1d (ZeroPadding1D)  (None, 193, 1)       0           input_1[0][0]                    \n",
            "__________________________________________________________________________________________________\n",
            "conv1d (Conv1D)                 (None, 94, 64)       512         zero_padding1d[0][0]             \n",
            "__________________________________________________________________________________________________\n",
            "batch_normalization (BatchNorma (None, 94, 64)       256         conv1d[0][0]                     \n",
            "__________________________________________________________________________________________________\n",
            "max_pooling1d (MaxPooling1D)    (None, 47, 64)       0           batch_normalization[0][0]        \n",
            "__________________________________________________________________________________________________\n",
            "conv1d_1 (Conv1D)               (None, 47, 64)       4160        max_pooling1d[0][0]              \n",
            "__________________________________________________________________________________________________\n",
            "batch_normalization_1 (BatchNor (None, 47, 64)       256         conv1d_1[0][0]                   \n",
            "__________________________________________________________________________________________________\n",
            "conv1d_2 (Conv1D)               (None, 47, 64)       12352       batch_normalization_1[0][0]      \n",
            "__________________________________________________________________________________________________\n",
            "batch_normalization_2 (BatchNor (None, 47, 64)       256         conv1d_2[0][0]                   \n",
            "__________________________________________________________________________________________________\n",
            "conv1d_3 (Conv1D)               (None, 47, 256)      16640       batch_normalization_2[0][0]      \n",
            "__________________________________________________________________________________________________\n",
            "conv1d_4 (Conv1D)               (None, 47, 256)      16640       max_pooling1d[0][0]              \n",
            "__________________________________________________________________________________________________\n",
            "batch_normalization_3 (BatchNor (None, 47, 256)      1024        conv1d_3[0][0]                   \n",
            "__________________________________________________________________________________________________\n",
            "batch_normalization_4 (BatchNor (None, 47, 256)      1024        conv1d_4[0][0]                   \n",
            "__________________________________________________________________________________________________\n",
            "add (Add)                       (None, 47, 256)      0           batch_normalization_3[0][0]      \n",
            "                                                                 batch_normalization_4[0][0]      \n",
            "__________________________________________________________________________________________________\n",
            "activation (Activation)         (None, 47, 256)      0           add[0][0]                        \n",
            "__________________________________________________________________________________________________\n",
            "conv1d_5 (Conv1D)               (None, 47, 64)       16448       activation[0][0]                 \n",
            "__________________________________________________________________________________________________\n",
            "batch_normalization_5 (BatchNor (None, 47, 64)       256         conv1d_5[0][0]                   \n",
            "__________________________________________________________________________________________________\n",
            "conv1d_6 (Conv1D)               (None, 47, 64)       12352       batch_normalization_5[0][0]      \n",
            "__________________________________________________________________________________________________\n",
            "batch_normalization_6 (BatchNor (None, 47, 64)       256         conv1d_6[0][0]                   \n",
            "__________________________________________________________________________________________________\n",
            "conv1d_7 (Conv1D)               (None, 47, 256)      16640       batch_normalization_6[0][0]      \n",
            "__________________________________________________________________________________________________\n",
            "batch_normalization_7 (BatchNor (None, 47, 256)      1024        conv1d_7[0][0]                   \n",
            "__________________________________________________________________________________________________\n",
            "add_1 (Add)                     (None, 47, 256)      0           batch_normalization_7[0][0]      \n",
            "                                                                 activation[0][0]                 \n",
            "__________________________________________________________________________________________________\n",
            "activation_1 (Activation)       (None, 47, 256)      0           add_1[0][0]                      \n",
            "__________________________________________________________________________________________________\n",
            "conv1d_8 (Conv1D)               (None, 47, 64)       16448       activation_1[0][0]               \n",
            "__________________________________________________________________________________________________\n",
            "batch_normalization_8 (BatchNor (None, 47, 64)       256         conv1d_8[0][0]                   \n",
            "__________________________________________________________________________________________________\n",
            "conv1d_9 (Conv1D)               (None, 47, 64)       12352       batch_normalization_8[0][0]      \n",
            "__________________________________________________________________________________________________\n",
            "batch_normalization_9 (BatchNor (None, 47, 64)       256         conv1d_9[0][0]                   \n",
            "__________________________________________________________________________________________________\n",
            "conv1d_10 (Conv1D)              (None, 47, 256)      16640       batch_normalization_9[0][0]      \n",
            "__________________________________________________________________________________________________\n",
            "batch_normalization_10 (BatchNo (None, 47, 256)      1024        conv1d_10[0][0]                  \n",
            "__________________________________________________________________________________________________\n",
            "add_2 (Add)                     (None, 47, 256)      0           batch_normalization_10[0][0]     \n",
            "                                                                 activation_1[0][0]               \n",
            "__________________________________________________________________________________________________\n",
            "activation_2 (Activation)       (None, 47, 256)      0           add_2[0][0]                      \n",
            "__________________________________________________________________________________________________\n",
            "conv1d_11 (Conv1D)              (None, 24, 128)      32896       activation_2[0][0]               \n",
            "__________________________________________________________________________________________________\n",
            "batch_normalization_11 (BatchNo (None, 24, 128)      512         conv1d_11[0][0]                  \n",
            "__________________________________________________________________________________________________\n",
            "conv1d_12 (Conv1D)              (None, 24, 128)      49280       batch_normalization_11[0][0]     \n",
            "__________________________________________________________________________________________________\n",
            "batch_normalization_12 (BatchNo (None, 24, 128)      512         conv1d_12[0][0]                  \n",
            "__________________________________________________________________________________________________\n",
            "conv1d_13 (Conv1D)              (None, 24, 512)      66048       batch_normalization_12[0][0]     \n",
            "__________________________________________________________________________________________________\n",
            "conv1d_14 (Conv1D)              (None, 24, 512)      131584      activation_2[0][0]               \n",
            "__________________________________________________________________________________________________\n",
            "batch_normalization_13 (BatchNo (None, 24, 512)      2048        conv1d_13[0][0]                  \n",
            "__________________________________________________________________________________________________\n",
            "batch_normalization_14 (BatchNo (None, 24, 512)      2048        conv1d_14[0][0]                  \n",
            "__________________________________________________________________________________________________\n",
            "add_3 (Add)                     (None, 24, 512)      0           batch_normalization_13[0][0]     \n",
            "                                                                 batch_normalization_14[0][0]     \n",
            "__________________________________________________________________________________________________\n",
            "activation_3 (Activation)       (None, 24, 512)      0           add_3[0][0]                      \n",
            "__________________________________________________________________________________________________\n",
            "conv1d_15 (Conv1D)              (None, 24, 128)      65664       activation_3[0][0]               \n",
            "__________________________________________________________________________________________________\n",
            "batch_normalization_15 (BatchNo (None, 24, 128)      512         conv1d_15[0][0]                  \n",
            "__________________________________________________________________________________________________\n",
            "conv1d_16 (Conv1D)              (None, 24, 128)      49280       batch_normalization_15[0][0]     \n",
            "__________________________________________________________________________________________________\n",
            "batch_normalization_16 (BatchNo (None, 24, 128)      512         conv1d_16[0][0]                  \n",
            "__________________________________________________________________________________________________\n",
            "conv1d_17 (Conv1D)              (None, 24, 512)      66048       batch_normalization_16[0][0]     \n",
            "__________________________________________________________________________________________________\n",
            "batch_normalization_17 (BatchNo (None, 24, 512)      2048        conv1d_17[0][0]                  \n",
            "__________________________________________________________________________________________________\n",
            "add_4 (Add)                     (None, 24, 512)      0           batch_normalization_17[0][0]     \n",
            "                                                                 activation_3[0][0]               \n",
            "__________________________________________________________________________________________________\n",
            "activation_4 (Activation)       (None, 24, 512)      0           add_4[0][0]                      \n",
            "__________________________________________________________________________________________________\n",
            "conv1d_18 (Conv1D)              (None, 24, 128)      65664       activation_4[0][0]               \n",
            "__________________________________________________________________________________________________\n",
            "batch_normalization_18 (BatchNo (None, 24, 128)      512         conv1d_18[0][0]                  \n",
            "__________________________________________________________________________________________________\n",
            "conv1d_19 (Conv1D)              (None, 24, 128)      49280       batch_normalization_18[0][0]     \n",
            "__________________________________________________________________________________________________\n",
            "batch_normalization_19 (BatchNo (None, 24, 128)      512         conv1d_19[0][0]                  \n",
            "__________________________________________________________________________________________________\n",
            "conv1d_20 (Conv1D)              (None, 24, 512)      66048       batch_normalization_19[0][0]     \n",
            "__________________________________________________________________________________________________\n",
            "batch_normalization_20 (BatchNo (None, 24, 512)      2048        conv1d_20[0][0]                  \n",
            "__________________________________________________________________________________________________\n",
            "add_5 (Add)                     (None, 24, 512)      0           batch_normalization_20[0][0]     \n",
            "                                                                 activation_4[0][0]               \n",
            "__________________________________________________________________________________________________\n",
            "activation_5 (Activation)       (None, 24, 512)      0           add_5[0][0]                      \n",
            "__________________________________________________________________________________________________\n",
            "conv1d_21 (Conv1D)              (None, 24, 128)      65664       activation_5[0][0]               \n",
            "__________________________________________________________________________________________________\n",
            "batch_normalization_21 (BatchNo (None, 24, 128)      512         conv1d_21[0][0]                  \n",
            "__________________________________________________________________________________________________\n",
            "conv1d_22 (Conv1D)              (None, 24, 128)      49280       batch_normalization_21[0][0]     \n",
            "__________________________________________________________________________________________________\n",
            "batch_normalization_22 (BatchNo (None, 24, 128)      512         conv1d_22[0][0]                  \n",
            "__________________________________________________________________________________________________\n",
            "conv1d_23 (Conv1D)              (None, 24, 512)      66048       batch_normalization_22[0][0]     \n",
            "__________________________________________________________________________________________________\n",
            "batch_normalization_23 (BatchNo (None, 24, 512)      2048        conv1d_23[0][0]                  \n",
            "__________________________________________________________________________________________________\n",
            "add_6 (Add)                     (None, 24, 512)      0           batch_normalization_23[0][0]     \n",
            "                                                                 activation_5[0][0]               \n",
            "__________________________________________________________________________________________________\n",
            "activation_6 (Activation)       (None, 24, 512)      0           add_6[0][0]                      \n",
            "__________________________________________________________________________________________________\n",
            "conv1d_24 (Conv1D)              (None, 12, 256)      131328      activation_6[0][0]               \n",
            "__________________________________________________________________________________________________\n",
            "batch_normalization_24 (BatchNo (None, 12, 256)      1024        conv1d_24[0][0]                  \n",
            "__________________________________________________________________________________________________\n",
            "conv1d_25 (Conv1D)              (None, 12, 256)      196864      batch_normalization_24[0][0]     \n",
            "__________________________________________________________________________________________________\n",
            "batch_normalization_25 (BatchNo (None, 12, 256)      1024        conv1d_25[0][0]                  \n",
            "__________________________________________________________________________________________________\n",
            "conv1d_26 (Conv1D)              (None, 12, 1024)     263168      batch_normalization_25[0][0]     \n",
            "__________________________________________________________________________________________________\n",
            "conv1d_27 (Conv1D)              (None, 12, 1024)     525312      activation_6[0][0]               \n",
            "__________________________________________________________________________________________________\n",
            "batch_normalization_26 (BatchNo (None, 12, 1024)     4096        conv1d_26[0][0]                  \n",
            "__________________________________________________________________________________________________\n",
            "batch_normalization_27 (BatchNo (None, 12, 1024)     4096        conv1d_27[0][0]                  \n",
            "__________________________________________________________________________________________________\n",
            "add_7 (Add)                     (None, 12, 1024)     0           batch_normalization_26[0][0]     \n",
            "                                                                 batch_normalization_27[0][0]     \n",
            "__________________________________________________________________________________________________\n",
            "activation_7 (Activation)       (None, 12, 1024)     0           add_7[0][0]                      \n",
            "__________________________________________________________________________________________________\n",
            "conv1d_28 (Conv1D)              (None, 12, 256)      262400      activation_7[0][0]               \n",
            "__________________________________________________________________________________________________\n",
            "batch_normalization_28 (BatchNo (None, 12, 256)      1024        conv1d_28[0][0]                  \n",
            "__________________________________________________________________________________________________\n",
            "conv1d_29 (Conv1D)              (None, 12, 256)      196864      batch_normalization_28[0][0]     \n",
            "__________________________________________________________________________________________________\n",
            "batch_normalization_29 (BatchNo (None, 12, 256)      1024        conv1d_29[0][0]                  \n",
            "__________________________________________________________________________________________________\n",
            "conv1d_30 (Conv1D)              (None, 12, 1024)     263168      batch_normalization_29[0][0]     \n",
            "__________________________________________________________________________________________________\n",
            "batch_normalization_30 (BatchNo (None, 12, 1024)     4096        conv1d_30[0][0]                  \n",
            "__________________________________________________________________________________________________\n",
            "add_8 (Add)                     (None, 12, 1024)     0           batch_normalization_30[0][0]     \n",
            "                                                                 activation_7[0][0]               \n",
            "__________________________________________________________________________________________________\n",
            "activation_8 (Activation)       (None, 12, 1024)     0           add_8[0][0]                      \n",
            "__________________________________________________________________________________________________\n",
            "conv1d_31 (Conv1D)              (None, 12, 256)      262400      activation_8[0][0]               \n",
            "__________________________________________________________________________________________________\n",
            "batch_normalization_31 (BatchNo (None, 12, 256)      1024        conv1d_31[0][0]                  \n",
            "__________________________________________________________________________________________________\n",
            "conv1d_32 (Conv1D)              (None, 12, 256)      196864      batch_normalization_31[0][0]     \n",
            "__________________________________________________________________________________________________\n",
            "batch_normalization_32 (BatchNo (None, 12, 256)      1024        conv1d_32[0][0]                  \n",
            "__________________________________________________________________________________________________\n",
            "conv1d_33 (Conv1D)              (None, 12, 1024)     263168      batch_normalization_32[0][0]     \n",
            "__________________________________________________________________________________________________\n",
            "batch_normalization_33 (BatchNo (None, 12, 1024)     4096        conv1d_33[0][0]                  \n",
            "__________________________________________________________________________________________________\n",
            "add_9 (Add)                     (None, 12, 1024)     0           batch_normalization_33[0][0]     \n",
            "                                                                 activation_8[0][0]               \n",
            "__________________________________________________________________________________________________\n",
            "activation_9 (Activation)       (None, 12, 1024)     0           add_9[0][0]                      \n",
            "__________________________________________________________________________________________________\n",
            "conv1d_34 (Conv1D)              (None, 12, 256)      262400      activation_9[0][0]               \n",
            "__________________________________________________________________________________________________\n",
            "batch_normalization_34 (BatchNo (None, 12, 256)      1024        conv1d_34[0][0]                  \n",
            "__________________________________________________________________________________________________\n",
            "conv1d_35 (Conv1D)              (None, 12, 256)      196864      batch_normalization_34[0][0]     \n",
            "__________________________________________________________________________________________________\n",
            "batch_normalization_35 (BatchNo (None, 12, 256)      1024        conv1d_35[0][0]                  \n",
            "__________________________________________________________________________________________________\n",
            "conv1d_36 (Conv1D)              (None, 12, 1024)     263168      batch_normalization_35[0][0]     \n",
            "__________________________________________________________________________________________________\n",
            "batch_normalization_36 (BatchNo (None, 12, 1024)     4096        conv1d_36[0][0]                  \n",
            "__________________________________________________________________________________________________\n",
            "add_10 (Add)                    (None, 12, 1024)     0           batch_normalization_36[0][0]     \n",
            "                                                                 activation_9[0][0]               \n",
            "__________________________________________________________________________________________________\n",
            "activation_10 (Activation)      (None, 12, 1024)     0           add_10[0][0]                     \n",
            "__________________________________________________________________________________________________\n",
            "conv1d_37 (Conv1D)              (None, 12, 256)      262400      activation_10[0][0]              \n",
            "__________________________________________________________________________________________________\n",
            "batch_normalization_37 (BatchNo (None, 12, 256)      1024        conv1d_37[0][0]                  \n",
            "__________________________________________________________________________________________________\n",
            "conv1d_38 (Conv1D)              (None, 12, 256)      196864      batch_normalization_37[0][0]     \n",
            "__________________________________________________________________________________________________\n",
            "batch_normalization_38 (BatchNo (None, 12, 256)      1024        conv1d_38[0][0]                  \n",
            "__________________________________________________________________________________________________\n",
            "conv1d_39 (Conv1D)              (None, 12, 1024)     263168      batch_normalization_38[0][0]     \n",
            "__________________________________________________________________________________________________\n",
            "batch_normalization_39 (BatchNo (None, 12, 1024)     4096        conv1d_39[0][0]                  \n",
            "__________________________________________________________________________________________________\n",
            "add_11 (Add)                    (None, 12, 1024)     0           batch_normalization_39[0][0]     \n",
            "                                                                 activation_10[0][0]              \n",
            "__________________________________________________________________________________________________\n",
            "activation_11 (Activation)      (None, 12, 1024)     0           add_11[0][0]                     \n",
            "__________________________________________________________________________________________________\n",
            "conv1d_40 (Conv1D)              (None, 12, 256)      262400      activation_11[0][0]              \n",
            "__________________________________________________________________________________________________\n",
            "batch_normalization_40 (BatchNo (None, 12, 256)      1024        conv1d_40[0][0]                  \n",
            "__________________________________________________________________________________________________\n",
            "conv1d_41 (Conv1D)              (None, 12, 256)      196864      batch_normalization_40[0][0]     \n",
            "__________________________________________________________________________________________________\n",
            "batch_normalization_41 (BatchNo (None, 12, 256)      1024        conv1d_41[0][0]                  \n",
            "__________________________________________________________________________________________________\n",
            "conv1d_42 (Conv1D)              (None, 12, 1024)     263168      batch_normalization_41[0][0]     \n",
            "__________________________________________________________________________________________________\n",
            "batch_normalization_42 (BatchNo (None, 12, 1024)     4096        conv1d_42[0][0]                  \n",
            "__________________________________________________________________________________________________\n",
            "add_12 (Add)                    (None, 12, 1024)     0           batch_normalization_42[0][0]     \n",
            "                                                                 activation_11[0][0]              \n",
            "__________________________________________________________________________________________________\n",
            "activation_12 (Activation)      (None, 12, 1024)     0           add_12[0][0]                     \n",
            "__________________________________________________________________________________________________\n",
            "conv1d_43 (Conv1D)              (None, 6, 512)       524800      activation_12[0][0]              \n",
            "__________________________________________________________________________________________________\n",
            "batch_normalization_43 (BatchNo (None, 6, 512)       2048        conv1d_43[0][0]                  \n",
            "__________________________________________________________________________________________________\n",
            "conv1d_44 (Conv1D)              (None, 6, 512)       786944      batch_normalization_43[0][0]     \n",
            "__________________________________________________________________________________________________\n",
            "batch_normalization_44 (BatchNo (None, 6, 512)       2048        conv1d_44[0][0]                  \n",
            "__________________________________________________________________________________________________\n",
            "conv1d_45 (Conv1D)              (None, 6, 2048)      1050624     batch_normalization_44[0][0]     \n",
            "__________________________________________________________________________________________________\n",
            "conv1d_46 (Conv1D)              (None, 6, 2048)      2099200     activation_12[0][0]              \n",
            "__________________________________________________________________________________________________\n",
            "batch_normalization_45 (BatchNo (None, 6, 2048)      8192        conv1d_45[0][0]                  \n",
            "__________________________________________________________________________________________________\n",
            "batch_normalization_46 (BatchNo (None, 6, 2048)      8192        conv1d_46[0][0]                  \n",
            "__________________________________________________________________________________________________\n",
            "add_13 (Add)                    (None, 6, 2048)      0           batch_normalization_45[0][0]     \n",
            "                                                                 batch_normalization_46[0][0]     \n",
            "__________________________________________________________________________________________________\n",
            "activation_13 (Activation)      (None, 6, 2048)      0           add_13[0][0]                     \n",
            "__________________________________________________________________________________________________\n",
            "conv1d_47 (Conv1D)              (None, 6, 512)       1049088     activation_13[0][0]              \n",
            "__________________________________________________________________________________________________\n",
            "batch_normalization_47 (BatchNo (None, 6, 512)       2048        conv1d_47[0][0]                  \n",
            "__________________________________________________________________________________________________\n",
            "conv1d_48 (Conv1D)              (None, 6, 512)       786944      batch_normalization_47[0][0]     \n",
            "__________________________________________________________________________________________________\n",
            "batch_normalization_48 (BatchNo (None, 6, 512)       2048        conv1d_48[0][0]                  \n",
            "__________________________________________________________________________________________________\n",
            "conv1d_49 (Conv1D)              (None, 6, 2048)      1050624     batch_normalization_48[0][0]     \n",
            "__________________________________________________________________________________________________\n",
            "batch_normalization_49 (BatchNo (None, 6, 2048)      8192        conv1d_49[0][0]                  \n",
            "__________________________________________________________________________________________________\n",
            "add_14 (Add)                    (None, 6, 2048)      0           batch_normalization_49[0][0]     \n",
            "                                                                 activation_13[0][0]              \n",
            "__________________________________________________________________________________________________\n",
            "activation_14 (Activation)      (None, 6, 2048)      0           add_14[0][0]                     \n",
            "__________________________________________________________________________________________________\n",
            "conv1d_50 (Conv1D)              (None, 6, 512)       1049088     activation_14[0][0]              \n",
            "__________________________________________________________________________________________________\n",
            "batch_normalization_50 (BatchNo (None, 6, 512)       2048        conv1d_50[0][0]                  \n",
            "__________________________________________________________________________________________________\n",
            "conv1d_51 (Conv1D)              (None, 6, 512)       786944      batch_normalization_50[0][0]     \n",
            "__________________________________________________________________________________________________\n",
            "batch_normalization_51 (BatchNo (None, 6, 512)       2048        conv1d_51[0][0]                  \n",
            "__________________________________________________________________________________________________\n",
            "conv1d_52 (Conv1D)              (None, 6, 2048)      1050624     batch_normalization_51[0][0]     \n",
            "__________________________________________________________________________________________________\n",
            "batch_normalization_52 (BatchNo (None, 6, 2048)      8192        conv1d_52[0][0]                  \n",
            "__________________________________________________________________________________________________\n",
            "add_15 (Add)                    (None, 6, 2048)      0           batch_normalization_52[0][0]     \n",
            "                                                                 activation_14[0][0]              \n",
            "__________________________________________________________________________________________________\n",
            "activation_15 (Activation)      (None, 6, 2048)      0           add_15[0][0]                     \n",
            "__________________________________________________________________________________________________\n",
            "max_pooling1d_1 (MaxPooling1D)  (None, 3, 2048)      0           activation_15[0][0]              \n",
            "__________________________________________________________________________________________________\n",
            "flatten (Flatten)               (None, 6144)         0           max_pooling1d_1[0][0]            \n",
            "__________________________________________________________________________________________________\n",
            "dense (Dense)                   (None, 2)            12290       flatten[0][0]                    \n",
            "==================================================================================================\n",
            "Total params: 16,046,210\n",
            "Trainable params: 15,993,090\n",
            "Non-trainable params: 53,120\n",
            "__________________________________________________________________________________________________\n"
          ],
          "name": "stdout"
        }
      ]
    },
    {
      "cell_type": "code",
      "metadata": {
        "colab": {
          "base_uri": "https://localhost:8080/"
        },
        "id": "Q-ZyGZDpT1sl",
        "outputId": "9f6b912a-e574-4a0d-c3f0-e8f7e18472a5"
      },
      "source": [
        "ResNet50_SGD.compile(optimizer='SGD', loss='categorical_crossentropy', metrics=['accuracy'])\r\n",
        "resNet50_model_history_SGD = ResNet50_SGD.fit(x_train, train_labels, epochs = 10, batch_size = 100, validation_data = (x_test, test_labels))"
      ],
      "execution_count": null,
      "outputs": [
        {
          "output_type": "stream",
          "text": [
            "Epoch 1/10\n",
            "85/85 [==============================] - 929s 11s/step - loss: 12.9295 - accuracy: 0.6164 - val_loss: 8626.2734 - val_accuracy: 0.6650\n",
            "Epoch 2/10\n",
            "85/85 [==============================] - 876s 10s/step - loss: 0.7179 - accuracy: 0.8211 - val_loss: 236.3241 - val_accuracy: 0.6647\n",
            "Epoch 3/10\n",
            "85/85 [==============================] - 863s 10s/step - loss: 0.4144 - accuracy: 0.8642 - val_loss: 15.0563 - val_accuracy: 0.6675\n",
            "Epoch 4/10\n",
            "85/85 [==============================] - 863s 10s/step - loss: 0.2394 - accuracy: 0.9163 - val_loss: 0.6204 - val_accuracy: 0.7296\n",
            "Epoch 5/10\n",
            "85/85 [==============================] - 839s 10s/step - loss: 0.1680 - accuracy: 0.9380 - val_loss: 0.6996 - val_accuracy: 0.7726\n",
            "Epoch 6/10\n",
            "85/85 [==============================] - 873s 10s/step - loss: 0.2007 - accuracy: 0.9365 - val_loss: 1.6987 - val_accuracy: 0.5549\n",
            "Epoch 7/10\n",
            "85/85 [==============================] - 857s 10s/step - loss: 0.1907 - accuracy: 0.9327 - val_loss: 0.1944 - val_accuracy: 0.9332\n",
            "Epoch 8/10\n",
            "85/85 [==============================] - 841s 10s/step - loss: 0.0930 - accuracy: 0.9633 - val_loss: 0.1779 - val_accuracy: 0.9305\n",
            "Epoch 9/10\n",
            "85/85 [==============================] - 856s 10s/step - loss: 0.0742 - accuracy: 0.9713 - val_loss: 0.2021 - val_accuracy: 0.9374\n",
            "Epoch 10/10\n",
            "85/85 [==============================] - 838s 10s/step - loss: 0.0827 - accuracy: 0.9690 - val_loss: 0.1861 - val_accuracy: 0.9401\n"
          ],
          "name": "stdout"
        }
      ]
    },
    {
      "cell_type": "code",
      "metadata": {
        "colab": {
          "base_uri": "https://localhost:8080/"
        },
        "id": "bsvflODSVc5B",
        "outputId": "c53fc214-c33d-48f4-df2e-1f3f25cc02f4"
      },
      "source": [
        "resNet50_model.compile(optimizer='adam', loss='categorical_crossentropy', metrics=['accuracy'])\r\n",
        "resNet50_model_history = resNet50_model.fit(x_train, train_labels, epochs = 10, batch_size = 100, validation_data = (x_test, test_labels))"
      ],
      "execution_count": null,
      "outputs": [
        {
          "output_type": "stream",
          "text": [
            "Epoch 1/10\n",
            "85/85 [==============================] - 824s 10s/step - loss: 2.8401 - accuracy: 0.6464 - val_loss: 2.5778 - val_accuracy: 0.6650\n",
            "Epoch 2/10\n",
            "85/85 [==============================] - 795s 9s/step - loss: 0.5743 - accuracy: 0.8299 - val_loss: 2.6780 - val_accuracy: 0.6650\n",
            "Epoch 3/10\n",
            "85/85 [==============================] - 779s 9s/step - loss: 0.2845 - accuracy: 0.9085 - val_loss: 6.4475 - val_accuracy: 0.6650\n",
            "Epoch 4/10\n",
            "85/85 [==============================] - 807s 9s/step - loss: 0.1637 - accuracy: 0.9449 - val_loss: 3.2983 - val_accuracy: 0.6650\n",
            "Epoch 5/10\n",
            "85/85 [==============================] - 784s 9s/step - loss: 0.0895 - accuracy: 0.9668 - val_loss: 4.4626 - val_accuracy: 0.6589\n",
            "Epoch 6/10\n",
            "85/85 [==============================] - 783s 9s/step - loss: 0.1497 - accuracy: 0.9527 - val_loss: 1.3915 - val_accuracy: 0.7114\n",
            "Epoch 7/10\n",
            "85/85 [==============================] - 802s 9s/step - loss: 0.0723 - accuracy: 0.9723 - val_loss: 1.0505 - val_accuracy: 0.7387\n",
            "Epoch 8/10\n",
            "85/85 [==============================] - 775s 9s/step - loss: 0.0813 - accuracy: 0.9719 - val_loss: 0.6354 - val_accuracy: 0.8234\n",
            "Epoch 9/10\n",
            "85/85 [==============================] - 799s 9s/step - loss: 0.0461 - accuracy: 0.9839 - val_loss: 0.1148 - val_accuracy: 0.9589\n",
            "Epoch 10/10\n",
            "85/85 [==============================] - 796s 9s/step - loss: 0.0458 - accuracy: 0.9855 - val_loss: 0.1256 - val_accuracy: 0.9685\n"
          ],
          "name": "stdout"
        }
      ]
    },
    {
      "cell_type": "code",
      "metadata": {
        "colab": {
          "base_uri": "https://localhost:8080/",
          "height": 296
        },
        "id": "Sm1AWzAHfEeD",
        "outputId": "e563144f-cb6d-4c35-f0d1-9ee42da230a7"
      },
      "source": [
        "plt.plot(resNet50_model_history.history['accuracy'])\r\n",
        "plt.plot(resNet50_model_history.history['val_accuracy'])\r\n",
        "plt.plot(resNet50_model_history_SGD.history['accuracy'])\r\n",
        "plt.plot(resNet50_model_history_SGD.history['val_accuracy'])\r\n",
        "plt.legend([\"accuracy using adam optimiser\",\"val_accuracy using adam optimiser\",\"accuracy using SGD optimiser\",\"val_accuracy using SGD optimiser\"])\r\n",
        "plt.xlabel('Number of epochs')\r\n",
        "plt.ylabel('Accuracy')"
      ],
      "execution_count": null,
      "outputs": [
        {
          "output_type": "execute_result",
          "data": {
            "text/plain": [
              "Text(0, 0.5, 'Accuracy')"
            ]
          },
          "metadata": {
            "tags": []
          },
          "execution_count": 9
        },
        {
          "output_type": "display_data",
          "data": {
            "image/png": "[encoded data removed]",
            "text/plain": [
              "<Figure size 432x288 with 1 Axes>"
            ]
          },
          "metadata": {
            "tags": [],
            "needs_background": "light"
          }
        }
      ]
    },
    {
      "cell_type": "code",
      "metadata": {
        "colab": {
          "base_uri": "https://localhost:8080/",
          "height": 295
        },
        "id": "wOtcH8WZfHCA",
        "outputId": "059dd2b2-f5cc-435d-f6cb-43628ab8050a"
      },
      "source": [
        "plt.plot(resNet50_model_history.history['loss'])\r\n",
        "plt.plot(resNet50_model_history.history['val_loss'])\r\n",
        "plt.plot(resNet50_model_history_SGD.history['loss'])\r\n",
        "plt.plot(resNet50_model_history_SGD.history['val_loss'])\r\n",
        "plt.legend([\"loss using adam optimiser\",\"val_loss using adam optimiser\",\"loss using SGD optimiser\",\"val_loss using SGD optimiser\"])\r\n",
        "plt.xlabel('Number of epochs')\r\n",
        "plt.ylabel('Loss')"
      ],
      "execution_count": null,
      "outputs": [
        {
          "output_type": "execute_result",
          "data": {
            "text/plain": [
              "Text(0, 0.5, 'Loss')"
            ]
          },
          "metadata": {
            "tags": []
          },
          "execution_count": 10
        },
        {
          "output_type": "display_data",
          "data": {
            "image/png": "[encoded data removed]",
            "text/plain": [
              "<Figure size 432x288 with 1 Axes>"
            ]
          },
          "metadata": {
            "tags": [],
            "needs_background": "light"
          }
        }
      ]
    },
    {
      "cell_type": "code",
      "metadata": {
        "colab": {
          "base_uri": "https://localhost:8080/"
        },
        "id": "A4PrEO2kfJpA",
        "outputId": "93defa70-27ee-412f-c5f3-74d7a9e9f407"
      },
      "source": [
        "y_true=[]\r\n",
        "for element in test_labels:\r\n",
        "    y_true.append(np.argmax(element))\r\n",
        "prediction_proba=resNet50_model.predict(x_test)\r\n",
        "prediction=np.argmax(prediction_proba,axis=1)\r\n",
        "\r\n",
        "prediction_proba_sgd=ResNet50_SGD.predict(x_test)\r\n",
        "prediction_sgd=np.argmax(prediction_proba_sgd,axis=1)\r\n",
        "print(prediction)"
      ],
      "execution_count": null,
      "outputs": [
        {
          "output_type": "stream",
          "text": [
            "[1 1 1 ... 0 0 0]\n"
          ],
          "name": "stdout"
        }
      ]
    },
    {
      "cell_type": "code",
      "metadata": {
        "colab": {
          "base_uri": "https://localhost:8080/",
          "height": 331
        },
        "id": "vS4reAUKfMGw",
        "outputId": "eb74fc55-3a10-4a14-ba46-a920a14cf5b4"
      },
      "source": [
        "from sklearn.metrics import classification_report\r\n",
        "resNet50_model_cf_matrix = confusion_matrix(y_true, prediction)\r\n",
        "sns.heatmap(resNet50_model_cf_matrix/np.sum(resNet50_model_cf_matrix), annot=True,fmt='.3%', cmap='Blues')\r\n",
        "classification_report(y_true, prediction)\r\n",
        "classification_report(y_true, prediction_sgd)"
      ],
      "execution_count": null,
      "outputs": [
        {
          "output_type": "execute_result",
          "data": {
            "application/vnd.google.colaboratory.intrinsic+json": {
              "type": "string"
            },
            "text/plain": [
              "'              precision    recall  f1-score   support\\n\\n           0       0.90      0.92      0.91      1214\\n           1       0.96      0.95      0.95      2410\\n\\n    accuracy                           0.94      3624\\n   macro avg       0.93      0.94      0.93      3624\\nweighted avg       0.94      0.94      0.94      3624\\n'"
            ]
          },
          "metadata": {
            "tags": []
          },
          "execution_count": 12
        },
        {
          "output_type": "display_data",
          "data": {
            "image/png": "[encoded data removed]",
            "text/plain": [
              "<Figure size 432x288 with 2 Axes>"
            ]
          },
          "metadata": {
            "tags": [],
            "needs_background": "light"
          }
        }
      ]
    },
    {
      "cell_type": "code",
      "metadata": {
        "id": "BoHNxcMxL1F3"
      },
      "source": [
        "def inception_block(prev_layer):\r\n",
        "    \r\n",
        "    conv1=Conv1D(filters = 64, kernel_size = 1, activation='relu', padding = 'same')(prev_layer)\r\n",
        "    \r\n",
        "    conv3=Conv1D(filters = 64, kernel_size = 1, activation='relu', padding = 'same')(prev_layer)\r\n",
        "    conv3=Conv1D(filters = 64, kernel_size = 3, activation='relu', padding = 'same')(conv3)\r\n",
        "    \r\n",
        "    conv5=Conv1D(filters = 64, kernel_size = 1, activation='relu', padding = 'same')(prev_layer)\r\n",
        "    conv5=Conv1D(filters = 64, kernel_size = 5, activation='relu', padding = 'same')(conv5)\r\n",
        "    \r\n",
        "    pool= MaxPool1D(pool_size=3, strides=1, padding='same')(prev_layer)\r\n",
        "    convmax=Conv1D(filters = 64, kernel_size = 1, activation='relu', padding = 'same')(pool)\r\n",
        "    \r\n",
        "    layer_out = concatenate([conv1, conv3, conv5, convmax], axis=1)\r\n",
        "    return layer_out"
      ],
      "execution_count": null,
      "outputs": []
    },
    {
      "cell_type": "code",
      "metadata": {
        "id": "dWDCVFTXL5JO"
      },
      "source": [
        "def inception_model(input_shape):\r\n",
        "    X_input=Input(input_shape)\r\n",
        "    \r\n",
        "    X = Conv1D(filters = 64, kernel_size = 7, activation='relu', padding = 'same')(X_input)\r\n",
        "    X = MaxPool1D(pool_size=3, strides=2, padding='same')(X)\r\n",
        "    \r\n",
        "    X = Conv1D(filters = 64, kernel_size = 1, activation='relu', padding = 'same')(X)\r\n",
        "    \r\n",
        "    X = inception_block(X)\r\n",
        "    X = inception_block(X)\r\n",
        "    X = inception_block(X)\r\n",
        "    X = inception_block(X)\r\n",
        "    \r\n",
        "    X = MaxPool1D(pool_size=7, strides=2, padding='same')(X)\r\n",
        "    \r\n",
        "    X = Flatten()(X)\r\n",
        "    X = Dense(2,activation='softmax')(X)\r\n",
        "    \r\n",
        "    model = Model(inputs = X_input, outputs = X, name='Inception')\r\n",
        "    \r\n",
        "    return model\r\n",
        "\r\n",
        "def inception_modelSDG(input_shape):\r\n",
        "    X_input=Input(input_shape)\r\n",
        "    \r\n",
        "    X = Conv1D(filters = 64, kernel_size = 7, activation='relu', padding = 'same')(X_input)\r\n",
        "    X = MaxPool1D(pool_size=3, strides=2, padding='same')(X)\r\n",
        "    \r\n",
        "    X = Conv1D(filters = 64, kernel_size = 1, activation='relu', padding = 'same')(X)\r\n",
        "    \r\n",
        "    X = inception_block(X)\r\n",
        "    X = inception_block(X)\r\n",
        "    X = inception_block(X)\r\n",
        "    X = inception_block(X)\r\n",
        "    \r\n",
        "    X = MaxPool1D(pool_size=7, strides=2, padding='same')(X)\r\n",
        "    \r\n",
        "    X = Flatten()(X)\r\n",
        "    X = Dense(2,activation='softmax')(X)\r\n",
        "    \r\n",
        "    model = Model(inputs = X_input, outputs = X, name='Inception')\r\n",
        "    \r\n",
        "    return model"
      ],
      "execution_count": null,
      "outputs": []
    },
    {
      "cell_type": "code",
      "metadata": {
        "colab": {
          "base_uri": "https://localhost:8080/"
        },
        "id": "1zTWKqnRL7kw",
        "outputId": "f4198bb0-7b06-48c0-88db-e84cc8fa0459"
      },
      "source": [
        "inception_model = inception_model(input_shape = (187,1))\r\n",
        "inception_modelSDG = inception_modelSDG(input_shape = (187,1))\r\n",
        "inception_model.summary()"
      ],
      "execution_count": null,
      "outputs": [
        {
          "output_type": "stream",
          "text": [
            "Model: \"Inception\"\n",
            "__________________________________________________________________________________________________\n",
            "Layer (type)                    Output Shape         Param #     Connected to                     \n",
            "==================================================================================================\n",
            "input_1 (InputLayer)            [(None, 187, 1)]     0                                            \n",
            "__________________________________________________________________________________________________\n",
            "conv1d (Conv1D)                 (None, 187, 64)      512         input_1[0][0]                    \n",
            "__________________________________________________________________________________________________\n",
            "max_pooling1d (MaxPooling1D)    (None, 94, 64)       0           conv1d[0][0]                     \n",
            "__________________________________________________________________________________________________\n",
            "conv1d_1 (Conv1D)               (None, 94, 64)       4160        max_pooling1d[0][0]              \n",
            "__________________________________________________________________________________________________\n",
            "conv1d_3 (Conv1D)               (None, 94, 64)       4160        conv1d_1[0][0]                   \n",
            "__________________________________________________________________________________________________\n",
            "conv1d_5 (Conv1D)               (None, 94, 64)       4160        conv1d_1[0][0]                   \n",
            "__________________________________________________________________________________________________\n",
            "max_pooling1d_1 (MaxPooling1D)  (None, 94, 64)       0           conv1d_1[0][0]                   \n",
            "__________________________________________________________________________________________________\n",
            "conv1d_2 (Conv1D)               (None, 94, 64)       4160        conv1d_1[0][0]                   \n",
            "__________________________________________________________________________________________________\n",
            "conv1d_4 (Conv1D)               (None, 94, 64)       12352       conv1d_3[0][0]                   \n",
            "__________________________________________________________________________________________________\n",
            "conv1d_6 (Conv1D)               (None, 94, 64)       20544       conv1d_5[0][0]                   \n",
            "__________________________________________________________________________________________________\n",
            "conv1d_7 (Conv1D)               (None, 94, 64)       4160        max_pooling1d_1[0][0]            \n",
            "__________________________________________________________________________________________________\n",
            "concatenate (Concatenate)       (None, 376, 64)      0           conv1d_2[0][0]                   \n",
            "                                                                 conv1d_4[0][0]                   \n",
            "                                                                 conv1d_6[0][0]                   \n",
            "                                                                 conv1d_7[0][0]                   \n",
            "__________________________________________________________________________________________________\n",
            "conv1d_9 (Conv1D)               (None, 376, 64)      4160        concatenate[0][0]                \n",
            "__________________________________________________________________________________________________\n",
            "conv1d_11 (Conv1D)              (None, 376, 64)      4160        concatenate[0][0]                \n",
            "__________________________________________________________________________________________________\n",
            "max_pooling1d_2 (MaxPooling1D)  (None, 376, 64)      0           concatenate[0][0]                \n",
            "__________________________________________________________________________________________________\n",
            "conv1d_8 (Conv1D)               (None, 376, 64)      4160        concatenate[0][0]                \n",
            "__________________________________________________________________________________________________\n",
            "conv1d_10 (Conv1D)              (None, 376, 64)      12352       conv1d_9[0][0]                   \n",
            "__________________________________________________________________________________________________\n",
            "conv1d_12 (Conv1D)              (None, 376, 64)      20544       conv1d_11[0][0]                  \n",
            "__________________________________________________________________________________________________\n",
            "conv1d_13 (Conv1D)              (None, 376, 64)      4160        max_pooling1d_2[0][0]            \n",
            "__________________________________________________________________________________________________\n",
            "concatenate_1 (Concatenate)     (None, 1504, 64)     0           conv1d_8[0][0]                   \n",
            "                                                                 conv1d_10[0][0]                  \n",
            "                                                                 conv1d_12[0][0]                  \n",
            "                                                                 conv1d_13[0][0]                  \n",
            "__________________________________________________________________________________________________\n",
            "conv1d_15 (Conv1D)              (None, 1504, 64)     4160        concatenate_1[0][0]              \n",
            "__________________________________________________________________________________________________\n",
            "conv1d_17 (Conv1D)              (None, 1504, 64)     4160        concatenate_1[0][0]              \n",
            "__________________________________________________________________________________________________\n",
            "max_pooling1d_3 (MaxPooling1D)  (None, 1504, 64)     0           concatenate_1[0][0]              \n",
            "__________________________________________________________________________________________________\n",
            "conv1d_14 (Conv1D)              (None, 1504, 64)     4160        concatenate_1[0][0]              \n",
            "__________________________________________________________________________________________________\n",
            "conv1d_16 (Conv1D)              (None, 1504, 64)     12352       conv1d_15[0][0]                  \n",
            "__________________________________________________________________________________________________\n",
            "conv1d_18 (Conv1D)              (None, 1504, 64)     20544       conv1d_17[0][0]                  \n",
            "__________________________________________________________________________________________________\n",
            "conv1d_19 (Conv1D)              (None, 1504, 64)     4160        max_pooling1d_3[0][0]            \n",
            "__________________________________________________________________________________________________\n",
            "concatenate_2 (Concatenate)     (None, 6016, 64)     0           conv1d_14[0][0]                  \n",
            "                                                                 conv1d_16[0][0]                  \n",
            "                                                                 conv1d_18[0][0]                  \n",
            "                                                                 conv1d_19[0][0]                  \n",
            "__________________________________________________________________________________________________\n",
            "conv1d_21 (Conv1D)              (None, 6016, 64)     4160        concatenate_2[0][0]              \n",
            "__________________________________________________________________________________________________\n",
            "conv1d_23 (Conv1D)              (None, 6016, 64)     4160        concatenate_2[0][0]              \n",
            "__________________________________________________________________________________________________\n",
            "max_pooling1d_4 (MaxPooling1D)  (None, 6016, 64)     0           concatenate_2[0][0]              \n",
            "__________________________________________________________________________________________________\n",
            "conv1d_20 (Conv1D)              (None, 6016, 64)     4160        concatenate_2[0][0]              \n",
            "__________________________________________________________________________________________________\n",
            "conv1d_22 (Conv1D)              (None, 6016, 64)     12352       conv1d_21[0][0]                  \n",
            "__________________________________________________________________________________________________\n",
            "conv1d_24 (Conv1D)              (None, 6016, 64)     20544       conv1d_23[0][0]                  \n",
            "__________________________________________________________________________________________________\n",
            "conv1d_25 (Conv1D)              (None, 6016, 64)     4160        max_pooling1d_4[0][0]            \n",
            "__________________________________________________________________________________________________\n",
            "concatenate_3 (Concatenate)     (None, 24064, 64)    0           conv1d_20[0][0]                  \n",
            "                                                                 conv1d_22[0][0]                  \n",
            "                                                                 conv1d_24[0][0]                  \n",
            "                                                                 conv1d_25[0][0]                  \n",
            "__________________________________________________________________________________________________\n",
            "max_pooling1d_5 (MaxPooling1D)  (None, 12032, 64)    0           concatenate_3[0][0]              \n",
            "__________________________________________________________________________________________________\n",
            "flatten (Flatten)               (None, 770048)       0           max_pooling1d_5[0][0]            \n",
            "__________________________________________________________________________________________________\n",
            "dense (Dense)                   (None, 2)            1540098     flatten[0][0]                    \n",
            "==================================================================================================\n",
            "Total params: 1,742,914\n",
            "Trainable params: 1,742,914\n",
            "Non-trainable params: 0\n",
            "__________________________________________________________________________________________________\n"
          ],
          "name": "stdout"
        }
      ]
    },
    {
      "cell_type": "code",
      "metadata": {
        "id": "8W3i7I4TMAPI"
      },
      "source": [
        "inception_model.compile(optimizer='adam', loss='binary_crossentropy', metrics=['accuracy'])"
      ],
      "execution_count": null,
      "outputs": []
    },
    {
      "cell_type": "code",
      "metadata": {
        "colab": {
          "base_uri": "https://localhost:8080/"
        },
        "id": "tgR0vEKONDLR",
        "outputId": "9ea91631-51f7-4e28-8461-db65e414689f"
      },
      "source": [
        "inception_model_history = inception_model.fit(x_train, train_labels, epochs = 10, batch_size = 100, validation_data = (x_test, test_labels))"
      ],
      "execution_count": null,
      "outputs": [
        {
          "output_type": "stream",
          "text": [
            "Epoch 1/10\n",
            "76/76 [==============================] - 784s 10s/step - loss: 0.5811 - accuracy: 0.6960 - val_loss: 0.3967 - val_accuracy: 0.8333\n",
            "Epoch 2/10\n",
            "76/76 [==============================] - 786s 10s/step - loss: 0.3927 - accuracy: 0.8284 - val_loss: 0.3046 - val_accuracy: 0.8802\n",
            "Epoch 3/10\n",
            "76/76 [==============================] - 815s 11s/step - loss: 0.2883 - accuracy: 0.8783 - val_loss: 0.2298 - val_accuracy: 0.8991\n",
            "Epoch 4/10\n",
            "76/76 [==============================] - 810s 11s/step - loss: 0.2201 - accuracy: 0.9142 - val_loss: 0.1908 - val_accuracy: 0.9395\n",
            "Epoch 5/10\n",
            "76/76 [==============================] - 810s 11s/step - loss: 0.1777 - accuracy: 0.9344 - val_loss: 0.1788 - val_accuracy: 0.9336\n",
            "Epoch 6/10\n",
            "76/76 [==============================] - 819s 11s/step - loss: 0.1454 - accuracy: 0.9434 - val_loss: 0.1175 - val_accuracy: 0.9631\n",
            "Epoch 7/10\n",
            "76/76 [==============================] - 795s 10s/step - loss: 0.0888 - accuracy: 0.9697 - val_loss: 0.1838 - val_accuracy: 0.9376\n",
            "Epoch 8/10\n",
            "76/76 [==============================] - 816s 11s/step - loss: 0.0894 - accuracy: 0.9659 - val_loss: 0.1287 - val_accuracy: 0.9444\n",
            "Epoch 9/10\n",
            "76/76 [==============================] - 816s 11s/step - loss: 0.1139 - accuracy: 0.9573 - val_loss: 0.0742 - val_accuracy: 0.9792\n",
            "Epoch 10/10\n",
            "76/76 [==============================] - 787s 10s/step - loss: 0.0762 - accuracy: 0.9713 - val_loss: 0.0685 - val_accuracy: 0.9786\n"
          ],
          "name": "stdout"
        }
      ]
    },
    {
      "cell_type": "code",
      "metadata": {
        "id": "WXRd0-5Vv1_p"
      },
      "source": [
        "inception_modelSDG.compile(optimizer='SGD', loss='binary_crossentropy', metrics=['accuracy'])"
      ],
      "execution_count": null,
      "outputs": []
    },
    {
      "cell_type": "code",
      "metadata": {
        "colab": {
          "base_uri": "https://localhost:8080/"
        },
        "id": "Q0FvxJ47v2L-",
        "outputId": "aa4c69e7-f831-4f5c-8004-384853af081c"
      },
      "source": [
        "inception_modelSDG_history = inception_modelSDG.fit(x_train, train_labels, epochs = 10, batch_size = 100, validation_data = (x_test, test_labels))"
      ],
      "execution_count": null,
      "outputs": [
        {
          "output_type": "stream",
          "text": [
            "Epoch 1/10\n",
            "76/76 [==============================] - 808s 11s/step - loss: 0.6522 - accuracy: 0.6208 - val_loss: 0.6010 - val_accuracy: 0.6750\n",
            "Epoch 2/10\n",
            "76/76 [==============================] - 841s 11s/step - loss: 0.5938 - accuracy: 0.6727 - val_loss: 0.5643 - val_accuracy: 0.7089\n",
            "Epoch 3/10\n",
            "76/76 [==============================] - 828s 11s/step - loss: 0.5680 - accuracy: 0.7000 - val_loss: 0.5439 - val_accuracy: 0.7194\n",
            "Epoch 4/10\n",
            "76/76 [==============================] - 815s 11s/step - loss: 0.5476 - accuracy: 0.7244 - val_loss: 0.5266 - val_accuracy: 0.7312\n",
            "Epoch 5/10\n",
            "76/76 [==============================] - 811s 11s/step - loss: 0.5260 - accuracy: 0.7441 - val_loss: 0.5080 - val_accuracy: 0.7548\n",
            "Epoch 6/10\n",
            "76/76 [==============================] - 813s 11s/step - loss: 0.5044 - accuracy: 0.7586 - val_loss: 0.4894 - val_accuracy: 0.7716\n",
            "Epoch 7/10\n",
            "76/76 [==============================] - 833s 11s/step - loss: 0.4943 - accuracy: 0.7693 - val_loss: 0.4721 - val_accuracy: 0.7784\n",
            "Epoch 8/10\n",
            "76/76 [==============================] - 842s 11s/step - loss: 0.4711 - accuracy: 0.7890 - val_loss: 0.4601 - val_accuracy: 0.7865\n",
            "Epoch 9/10\n",
            "76/76 [==============================] - 841s 11s/step - loss: 0.4707 - accuracy: 0.7882 - val_loss: 0.4529 - val_accuracy: 0.7890\n",
            "Epoch 10/10\n",
            "76/76 [==============================] - 848s 11s/step - loss: 0.4524 - accuracy: 0.8007 - val_loss: 0.4533 - val_accuracy: 0.7784\n"
          ],
          "name": "stdout"
        }
      ]
    },
    {
      "cell_type": "code",
      "metadata": {
        "colab": {
          "base_uri": "https://localhost:8080/",
          "height": 295
        },
        "id": "HdKUFUOVMCWY",
        "outputId": "f711ecbe-ca1f-4d00-ad09-c0c84382ea62"
      },
      "source": [
        "plt.plot(inception_model_history.history['accuracy'])\r\n",
        "plt.plot(inception_model_history.history['val_accuracy'])\r\n",
        "plt.plot(inception_modelSDG_history.history['accuracy'])\r\n",
        "plt.plot(inception_modelSDG_history.history['val_accuracy'])\r\n",
        "plt.legend([\"accuracy using adam optimiser\",\"val_accuracy using adam optimiser\",\"accuracy using SGD optimiser\",\"val_accuracy using SGD optimiser\"])\r\n",
        "plt.xlabel('Number of epochs')\r\n",
        "plt.ylabel('Accuracy')"
      ],
      "execution_count": null,
      "outputs": [
        {
          "output_type": "execute_result",
          "data": {
            "text/plain": [
              "Text(0, 0.5, 'Accuracy')"
            ]
          },
          "metadata": {
            "tags": []
          },
          "execution_count": 9
        },
        {
          "output_type": "display_data",
          "data": {
            "image/png": "[encoded data removed]",
            "text/plain": [
              "<Figure size 432x288 with 1 Axes>"
            ]
          },
          "metadata": {
            "tags": [],
            "needs_background": "light"
          }
        }
      ]
    },
    {
      "cell_type": "code",
      "metadata": {
        "colab": {
          "base_uri": "https://localhost:8080/",
          "height": 295
        },
        "id": "SZR3_fbzMFdg",
        "outputId": "0bd3f5dc-782e-4756-84af-81edf36f474d"
      },
      "source": [
        "\r\n",
        "plt.plot(inception_model_history.history['loss'])\r\n",
        "plt.plot(inception_model_history.history['val_loss'])\r\n",
        "plt.plot(inception_modelSDG_history.history['loss'])\r\n",
        "plt.plot(inception_modelSDG_history.history['val_loss'])\r\n",
        "plt.legend([\"loss\",\"val_loss\"])\r\n",
        "plt.legend([\"loss using adam optimiser\",\"val_loss using adam optimiser\",\"loss using SGD optimiser\",\"val_loss using SGD optimiser\"])\r\n",
        "plt.xlabel('Number of epochs')\r\n",
        "plt.ylabel('Loss')"
      ],
      "execution_count": null,
      "outputs": [
        {
          "output_type": "execute_result",
          "data": {
            "text/plain": [
              "Text(0, 0.5, 'Loss')"
            ]
          },
          "metadata": {
            "tags": []
          },
          "execution_count": 12
        },
        {
          "output_type": "display_data",
          "data": {
            "image/png": "[encoded data removed]",
            "text/plain": [
              "<Figure size 432x288 with 1 Axes>"
            ]
          },
          "metadata": {
            "tags": [],
            "needs_background": "light"
          }
        }
      ]
    },
    {
      "cell_type": "code",
      "metadata": {
        "id": "kVdgxHRAMJKI"
      },
      "source": [
        "y_true=[]\r\n",
        "for element in test_labels:\r\n",
        "    y_true.append(np.argmax(element))\r\n",
        "prediction_proba=inception_model.predict(x_test)\r\n",
        "prediction=np.argmax(prediction_proba,axis=1)\r\n",
        "prediction_proba=inception_modelSDG.predict(x_test)\r\n",
        "prediction_SGD=np.argmax(prediction_proba,axis=1)"
      ],
      "execution_count": null,
      "outputs": []
    },
    {
      "cell_type": "code",
      "metadata": {
        "colab": {
          "base_uri": "https://localhost:8080/",
          "height": 332
        },
        "id": "el1PDwWVMLRI",
        "outputId": "3a46b331-dc82-4e98-8d9a-9aeda5eaad04"
      },
      "source": [
        "from sklearn.metrics import classification_report\r\n",
        "inception_model_cf_matrix = confusion_matrix(y_true, prediction)\r\n",
        "sns.heatmap(inception_model_cf_matrix/np.sum(inception_model_cf_matrix), annot=True,fmt='.3%', cmap='Blues')\r\n",
        "classification_report(y_true, prediction)\r\n",
        "#classification_report(y_true, prediction_SGD)"
      ],
      "execution_count": null,
      "outputs": [
        {
          "output_type": "execute_result",
          "data": {
            "application/vnd.google.colaboratory.intrinsic+json": {
              "type": "string"
            },
            "text/plain": [
              "'              precision    recall  f1-score   support\\n\\n           0       0.96      0.98      0.97      1214\\n           1       0.99      0.98      0.98      2008\\n\\n    accuracy                           0.98      3222\\n   macro avg       0.98      0.98      0.98      3222\\nweighted avg       0.98      0.98      0.98      3222\\n'"
            ]
          },
          "metadata": {
            "tags": []
          },
          "execution_count": 16
        },
        {
          "output_type": "display_data",
          "data": {
            "image/png": "[encoded data removed]",
            "text/plain": [
              "<Figure size 432x288 with 2 Axes>"
            ]
          },
          "metadata": {
            "tags": [],
            "needs_background": "light"
          }
        }
      ]
    }
  ]
}